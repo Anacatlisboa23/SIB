{
 "cells": [
  {
   "cell_type": "code",
   "execution_count": 4,
   "metadata": {
    "collapsed": true
   },
   "outputs": [],
   "source": [
    "# imports\n",
    "from si.io.csv import read_csv\n",
    "from si.feature_extraction.k_mer import KMer\n",
    "from si.model_selection.split import train_test_split\n",
    "from si.linear_model.logistic_regression import LogisticRegression"
   ]
  },
  {
   "cell_type": "code",
   "execution_count": 5,
   "outputs": [],
   "source": [
    "tfbs_dataset = read_csv('../datasets/tfbs.csv', features=True, label=True)"
   ],
   "metadata": {
    "collapsed": false
   }
  },
  {
   "cell_type": "code",
   "execution_count": 6,
   "outputs": [
    {
     "data": {
      "text/plain": "['AAA',\n 'AAC',\n 'AAT',\n 'AAG',\n 'ACA',\n 'ACC',\n 'ACT',\n 'ACG',\n 'ATA',\n 'ATC',\n 'ATT',\n 'ATG',\n 'AGA',\n 'AGC',\n 'AGT',\n 'AGG',\n 'CAA',\n 'CAC',\n 'CAT',\n 'CAG',\n 'CCA',\n 'CCC',\n 'CCT',\n 'CCG',\n 'CTA',\n 'CTC',\n 'CTT',\n 'CTG',\n 'CGA',\n 'CGC',\n 'CGT',\n 'CGG',\n 'TAA',\n 'TAC',\n 'TAT',\n 'TAG',\n 'TCA',\n 'TCC',\n 'TCT',\n 'TCG',\n 'TTA',\n 'TTC',\n 'TTT',\n 'TTG',\n 'TGA',\n 'TGC',\n 'TGT',\n 'TGG',\n 'GAA',\n 'GAC',\n 'GAT',\n 'GAG',\n 'GCA',\n 'GCC',\n 'GCT',\n 'GCG',\n 'GTA',\n 'GTC',\n 'GTT',\n 'GTG',\n 'GGA',\n 'GGC',\n 'GGT',\n 'GGG']"
     },
     "execution_count": 6,
     "metadata": {},
     "output_type": "execute_result"
    }
   ],
   "source": [
    "# kmer\n",
    "\n",
    "kmer = KMer(3)\n",
    "kmer_dataset = kmer.fit_transform(tfbs_dataset)\n",
    "kmer_dataset.features"
   ],
   "metadata": {
    "collapsed": false
   }
  },
  {
   "cell_type": "code",
   "execution_count": 7,
   "outputs": [],
   "source": [
    "# standardization\n",
    "from sklearn.preprocessing import StandardScaler\n",
    "kmer_dataset.X = StandardScaler().fit_transform(kmer_dataset.X)"
   ],
   "metadata": {
    "collapsed": false
   }
  },
  {
   "cell_type": "code",
   "execution_count": 8,
   "outputs": [],
   "source": [
    "# split dataset\n",
    "train_dataset, test_dataset = train_test_split(kmer_dataset)"
   ],
   "metadata": {
    "collapsed": false
   }
  },
  {
   "cell_type": "code",
   "execution_count": 9,
   "outputs": [
    {
     "data": {
      "text/plain": "<si.linear_model.logistic_regression.LogisticRegression at 0x1bf3a9b7908>"
     },
     "execution_count": 9,
     "metadata": {},
     "output_type": "execute_result"
    }
   ],
   "source": [
    "# logistic regression\n",
    "lg = LogisticRegression()\n",
    "lg.fit(train_dataset)"
   ],
   "metadata": {
    "collapsed": false
   }
  },
  {
   "cell_type": "code",
   "execution_count": 10,
   "outputs": [
    {
     "data": {
      "text/plain": "0.955"
     },
     "execution_count": 10,
     "metadata": {},
     "output_type": "execute_result"
    }
   ],
   "source": [
    "lg.score(test_dataset)"
   ],
   "metadata": {
    "collapsed": false
   }
  }
 ],
 "metadata": {
  "kernelspec": {
   "display_name": "Python 3",
   "language": "python",
   "name": "python3"
  },
  "language_info": {
   "codemirror_mode": {
    "name": "ipython",
    "version": 2
   },
   "file_extension": ".py",
   "mimetype": "text/x-python",
   "name": "python",
   "nbconvert_exporter": "python",
   "pygments_lexer": "ipython2",
   "version": "2.7.6"
  }
 },
 "nbformat": 4,
 "nbformat_minor": 0
}
