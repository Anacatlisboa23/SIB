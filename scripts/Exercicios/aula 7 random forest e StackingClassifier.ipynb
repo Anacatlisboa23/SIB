{
 "cells": [
  {
   "cell_type": "markdown",
   "source": [
    "# Test the random forest class"
   ],
   "metadata": {
    "collapsed": false
   },
   "id": "e8e38d2ec528ab24"
  },
  {
   "cell_type": "code",
   "execution_count": 1,
   "outputs": [],
   "source": [
    "import numpy as np\n",
    "import pandas as pd\n",
    "from si.data.dataset import Dataset\n",
    "from si.io.csv_file import read_csv\n",
    "from si.model_selection.split import train_test_split\n",
    "from si.models.random_forest_classifier import RandomForestClassifier  "
   ],
   "metadata": {
    "collapsed": false,
    "ExecuteTime": {
     "end_time": "2023-12-10T15:13:14.077319400Z",
     "start_time": "2023-12-10T15:13:13.563783900Z"
    }
   },
   "id": "398d571fa619aa84"
  },
  {
   "cell_type": "code",
   "execution_count": 2,
   "outputs": [],
   "source": [
    "#Use the iris.csv dataset:\n",
    "\n",
    "data= read_csv (r\"C:\\Users\\pc\\PycharmProjects\\si\\datasets\\iris\\iris.csv\", sep= \",\", label= True, features=True)\n"
   ],
   "metadata": {
    "collapsed": false,
    "ExecuteTime": {
     "end_time": "2023-12-10T15:13:16.127773300Z",
     "start_time": "2023-12-10T15:13:16.104561800Z"
    }
   },
   "id": "152a1b3119ebc903"
  },
  {
   "cell_type": "code",
   "execution_count": 5,
   "outputs": [
    {
     "data": {
      "text/plain": "<si.models.random_forest_classifier.RandomForestClassifier at 0x250c0b1bd70>"
     },
     "execution_count": 5,
     "metadata": {},
     "output_type": "execute_result"
    }
   ],
   "source": [
    "# Split the data into train and test sets\n",
    "\n",
    "train, test = train_test_split(data, test_size=0.33, random_state=42)\n",
    "\n",
    "model = RandomForestClassifier(n_estimators=100, max_features=None, min_sample_split=2, max_depth=10, mode='gini', seed=42)\n",
    "\n",
    "model.fit(train)"
   ],
   "metadata": {
    "collapsed": false,
    "ExecuteTime": {
     "end_time": "2023-12-10T15:14:03.473980900Z",
     "start_time": "2023-12-10T15:14:01.162946700Z"
    }
   },
   "id": "5d72fb542732ae63"
  },
  {
   "cell_type": "code",
   "execution_count": 7,
   "outputs": [
    {
     "name": "stdout",
     "output_type": "stream",
     "text": [
      "Accuracy on the test set: 0.31\n"
     ]
    }
   ],
   "source": [
    "model = RandomForestClassifier(n_estimators=100, max_features=None, min_sample_split=2, max_depth=10, mode='gini', seed=42)\n",
    "#. Train the model.\n",
    "\n",
    "model.fit(train)\n",
    "\n",
    "# Evaluate the model on the test dataset (test_dataset is an instance of Dataset)\n",
    "accuracy = model.score(test)\n",
    "print(f\"Accuracy on the test set: {accuracy:.2f}\")  \n"
   ],
   "metadata": {
    "collapsed": false,
    "ExecuteTime": {
     "end_time": "2023-12-10T15:24:48.993006600Z",
     "start_time": "2023-12-10T15:24:45.183997600Z"
    }
   },
   "id": "5b7b91f2ec0572f1"
  },
  {
   "cell_type": "markdown",
   "source": [
    "# Test the StackingClassifier model"
   ],
   "metadata": {
    "collapsed": false
   },
   "id": "1f6ff031be2bb594"
  },
  {
   "cell_type": "code",
   "execution_count": 5,
   "outputs": [],
   "source": [
    "from si.models.knn_classifer import KNNClassifier\n",
    "from sklearn.preprocessing import StandardScaler\n",
    "from si.models.logistic_regression import LogisticRegression\n",
    "from si.ensemble.stacking_classifier import StackingClassifier\n",
    "from si.models.decision_tree_classifier import DecisionTreeClassifier\n",
    "from si.statistics.euclidean_distance import euclidean_distance"
   ],
   "metadata": {
    "collapsed": false,
    "ExecuteTime": {
     "end_time": "2023-11-16T14:44:25.803321Z",
     "start_time": "2023-11-16T14:44:24.988438500Z"
    }
   },
   "id": "4f5ba32862c9c108"
  },
  {
   "cell_type": "code",
   "execution_count": 7,
   "outputs": [],
   "source": [
    "#Use the breast-bin.csv dataset\n",
    "\n",
    "breast_bin= read_csv(r\"C:\\Users\\pc\\PycharmProjects\\si\\datasets\\breast_bin\\breast-bin.csv\",sep= \",\", label= True, features=True )"
   ],
   "metadata": {
    "collapsed": false,
    "ExecuteTime": {
     "end_time": "2023-11-16T14:44:49.831348200Z",
     "start_time": "2023-11-16T14:44:49.815692800Z"
    }
   },
   "id": "5bbbd258d191db11"
  },
  {
   "cell_type": "code",
   "execution_count": 8,
   "outputs": [
    {
     "data": {
      "text/plain": "array([[ 0.20885295, -0.69912815, -0.74242297, ..., -1.0000359 ,\n        -0.61132565, -0.34418721],\n       [-0.8578253 , -0.69912815, -0.74242297, ..., -0.58991542,\n        -0.61132565, -0.34418721],\n       [-0.8578253 , -0.69912815, -0.74242297, ..., -0.17979494,\n        -0.61132565, -0.34418721],\n       ...,\n       [ 0.20885295, -0.37139715, -0.40592217, ..., -1.0000359 ,\n        -0.61132565,  0.23892607],\n       [-0.8578253 , -0.04366616, -0.40592217, ..., -0.17979494,\n        -0.61132565, -0.34418721],\n       [ 0.91997179,  0.93952681,  0.94008103, ...,  1.46068699,\n        -0.61132565, -0.34418721]])"
     },
     "execution_count": 8,
     "metadata": {},
     "output_type": "execute_result"
    }
   ],
   "source": [
    "# standardization\n",
    "\n",
    "breast_bin.X = StandardScaler().fit_transform(breast_bin.X)\n",
    "breast_bin.X"
   ],
   "metadata": {
    "collapsed": false,
    "ExecuteTime": {
     "end_time": "2023-11-16T14:44:53.738539700Z",
     "start_time": "2023-11-16T14:44:53.722737500Z"
    }
   },
   "id": "646407c39f2c2a8e"
  },
  {
   "cell_type": "code",
   "execution_count": 9,
   "outputs": [
    {
     "data": {
      "text/plain": "array([0., 1., 0., 0., 0., 0., 1., 0., 0., 1., 0., 1., 1., 1., 0., 0., 0.,\n       0., 1., 0., 0., 1., 0., 1., 1., 0., 0., 0., 0., 0., 1., 0., 1., 0.,\n       0., 0., 0., 0., 1., 1., 0., 0., 1., 0., 0., 1., 1., 0., 0., 1., 1.,\n       0., 1., 0., 0., 1., 0., 0., 1., 0., 1., 1., 1., 0., 0., 1., 0., 0.,\n       1., 0., 0., 0., 0., 0., 1., 0., 0., 1., 0., 1., 0., 1., 0., 0., 0.,\n       1., 1., 0., 0., 0., 0., 1., 0., 1., 1., 0., 0., 0., 0., 1., 1., 0.,\n       1., 1., 0., 1., 0., 0., 0., 1., 1., 1., 0., 0., 0., 1., 0., 1., 1.,\n       0., 0., 0., 1., 0., 0., 0., 0., 0., 0., 0., 0., 1., 0., 0., 0., 1.,\n       0., 0., 1.])"
     },
     "execution_count": 9,
     "metadata": {},
     "output_type": "execute_result"
    }
   ],
   "source": [
    "# split dataset\n",
    "\n",
    "train_dataset, test_dataset = train_test_split(breast_bin)\n",
    "test_dataset.y\n"
   ],
   "metadata": {
    "collapsed": false,
    "ExecuteTime": {
     "end_time": "2023-11-16T14:45:26.700857900Z",
     "start_time": "2023-11-16T14:45:26.685344700Z"
    }
   },
   "id": "8d80803dc6bc1add"
  },
  {
   "cell_type": "code",
   "execution_count": 10,
   "outputs": [],
   "source": [
    "# initialize the KNN, Logistic classifier and final model\n",
    "knn = KNNClassifier(k=3)\n",
    "lg_model = LogisticRegression(l2_penalty=1, alpha=0.001, max_iter=1000)\n",
    "dt_model = DecisionTreeClassifier()\n",
    "final_model = KNNClassifier(k=2, distance=euclidean_distance)"
   ],
   "metadata": {
    "collapsed": false,
    "ExecuteTime": {
     "end_time": "2023-11-16T14:45:30.108783600Z",
     "start_time": "2023-11-16T14:45:30.092800200Z"
    }
   },
   "id": "5ff44776796ff08b"
  },
  {
   "cell_type": "code",
   "execution_count": 11,
   "outputs": [],
   "source": [
    "# initialize the stacking classifier\n",
    "stacking = StackingClassifier([knn, lg_model, dt_model], final_model)"
   ],
   "metadata": {
    "collapsed": false,
    "ExecuteTime": {
     "end_time": "2023-11-16T14:45:32.761790500Z",
     "start_time": "2023-11-16T14:45:32.761790500Z"
    }
   },
   "id": "8c37398e3a057d69"
  },
  {
   "cell_type": "code",
   "execution_count": 12,
   "outputs": [
    {
     "data": {
      "text/plain": "<si.ensemble.stacking_classifier.StackingClassifier at 0x1fbbf79a900>"
     },
     "execution_count": 12,
     "metadata": {},
     "output_type": "execute_result"
    }
   ],
   "source": [
    "stacking.fit(train_dataset)"
   ],
   "metadata": {
    "collapsed": false,
    "ExecuteTime": {
     "end_time": "2023-11-16T14:45:35.989971700Z",
     "start_time": "2023-11-16T14:45:35.709129800Z"
    }
   },
   "id": "979ef0ba54c3706a"
  },
  {
   "cell_type": "code",
   "execution_count": 13,
   "outputs": [
    {
     "data": {
      "text/plain": "array([1., 1., 0., 0., 0., 0., 1., 0., 0., 1., 0., 1., 1., 1., 0., 0., 0.,\n       0., 1., 0., 0., 1., 0., 1., 1., 0., 0., 0., 0., 0., 1., 0., 1., 0.,\n       0., 0., 0., 0., 1., 1., 0., 0., 1., 0., 0., 1., 1., 0., 0., 1., 1.,\n       0., 1., 0., 0., 1., 0., 0., 1., 0., 1., 1., 1., 0., 0., 1., 0., 0.,\n       1., 0., 0., 0., 0., 0., 1., 0., 0., 1., 0., 1., 0., 1., 0., 0., 0.,\n       1., 1., 0., 0., 0., 0., 1., 0., 1., 1., 0., 0., 0., 0., 1., 1., 0.,\n       1., 1., 0., 1., 0., 0., 0., 1., 1., 1., 0., 0., 0., 1., 0., 1., 1.,\n       0., 0., 0., 0., 0., 0., 0., 0., 0., 0., 0., 0., 1., 0., 0., 0., 1.,\n       0., 0., 1.])"
     },
     "execution_count": 13,
     "metadata": {},
     "output_type": "execute_result"
    }
   ],
   "source": [
    "stacking.predict(test_dataset)"
   ],
   "metadata": {
    "collapsed": false,
    "ExecuteTime": {
     "end_time": "2023-11-16T14:45:38.931991700Z",
     "start_time": "2023-11-16T14:45:38.877264700Z"
    }
   },
   "id": "35e7de8b257c9d5b"
  },
  {
   "cell_type": "code",
   "execution_count": 14,
   "outputs": [
    {
     "name": "stdout",
     "output_type": "stream",
     "text": [
      "The score of the model on the test set is : 0.9856115107913669\n"
     ]
    }
   ],
   "source": [
    "score = stacking.score(test_dataset)\n",
    "print(f\"The score of the model on the test set is : {score}\")"
   ],
   "metadata": {
    "collapsed": false,
    "ExecuteTime": {
     "end_time": "2023-11-16T14:45:57.486972800Z",
     "start_time": "2023-11-16T14:45:57.455374800Z"
    }
   },
   "id": "9cf35ac717c816d9"
  }
 ],
 "metadata": {
  "kernelspec": {
   "display_name": "Python 3",
   "language": "python",
   "name": "python3"
  },
  "language_info": {
   "codemirror_mode": {
    "name": "ipython",
    "version": 2
   },
   "file_extension": ".py",
   "mimetype": "text/x-python",
   "name": "python",
   "nbconvert_exporter": "python",
   "pygments_lexer": "ipython2",
   "version": "2.7.6"
  }
 },
 "nbformat": 4,
 "nbformat_minor": 5
}
