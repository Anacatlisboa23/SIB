{
 "cells": [
  {
   "cell_type": "markdown",
   "source": [
    "# Test the random forest class"
   ],
   "metadata": {
    "collapsed": false
   },
   "id": "e8e38d2ec528ab24"
  },
  {
   "cell_type": "code",
   "execution_count": 1,
   "outputs": [],
   "source": [
    "import numpy as np\n",
    "import pandas as pd\n",
    "from si.data.dataset import Dataset\n",
    "from si.io.csv_file import read_csv\n",
    "from si.model_selection.split import train_test_split\n",
    "from si.models.random_forest_classifier import RandomForestClassifier  "
   ],
   "metadata": {
    "collapsed": false,
    "ExecuteTime": {
     "end_time": "2023-11-06T11:07:40.115719700Z",
     "start_time": "2023-11-06T11:07:33.533726800Z"
    }
   },
   "id": "398d571fa619aa84"
  },
  {
   "cell_type": "code",
   "execution_count": 3,
   "outputs": [],
   "source": [
    "#Use the iris.csv dataset:\n",
    "\n",
    "data= read_csv (r\"C:\\Users\\anali\\PycharmProjects\\si\\datasets\\iris\\iris.csv\", sep= \",\", label= True, features=True)\n"
   ],
   "metadata": {
    "collapsed": false,
    "ExecuteTime": {
     "end_time": "2023-11-06T11:09:42.808890900Z",
     "start_time": "2023-11-06T11:09:42.704812200Z"
    }
   },
   "id": "152a1b3119ebc903"
  },
  {
   "cell_type": "code",
   "execution_count": 5,
   "outputs": [
    {
     "data": {
      "text/plain": "<si.models.random_forest_classifier.RandomForestClassifier at 0x270682e0090>"
     },
     "execution_count": 5,
     "metadata": {},
     "output_type": "execute_result"
    }
   ],
   "source": [
    "# Split the data into train and test sets\n",
    "\n",
    "train, test = train_test_split(data, test_size=0.33, random_state=42)\n",
    "\n",
    "model = RandomForestClassifier(n_estimators=100, max_features=None, min_samples_split=2, max_depth=10, mode='gini', seed=42)\n",
    "\n",
    "model.fit(train)"
   ],
   "metadata": {
    "collapsed": false,
    "ExecuteTime": {
     "end_time": "2023-11-06T11:10:38.584006900Z",
     "start_time": "2023-11-06T11:10:30.484321600Z"
    }
   },
   "id": "5d72fb542732ae63"
  },
  {
   "cell_type": "code",
   "execution_count": 22,
   "outputs": [
    {
     "ename": "ValueError",
     "evalue": "Number of features must match the number of columns in X",
     "output_type": "error",
     "traceback": [
      "\u001B[1;31m---------------------------------------------------------------------------\u001B[0m",
      "\u001B[1;31mValueError\u001B[0m                                Traceback (most recent call last)",
      "Cell \u001B[1;32mIn[22], line 7\u001B[0m\n\u001B[0;32m      4\u001B[0m model\u001B[38;5;241m.\u001B[39mfit(train)\n\u001B[0;32m      6\u001B[0m \u001B[38;5;66;03m# Evaluate the model on the test dataset (test_dataset is an instance of Dataset)\u001B[39;00m\n\u001B[1;32m----> 7\u001B[0m accuracy \u001B[38;5;241m=\u001B[39m model\u001B[38;5;241m.\u001B[39mscore(test)\n\u001B[0;32m      8\u001B[0m \u001B[38;5;28mprint\u001B[39m(\u001B[38;5;124mf\u001B[39m\u001B[38;5;124m\"\u001B[39m\u001B[38;5;124mAccuracy on the test set: \u001B[39m\u001B[38;5;132;01m{\u001B[39;00maccuracy\u001B[38;5;132;01m:\u001B[39;00m\u001B[38;5;124m.2f\u001B[39m\u001B[38;5;132;01m}\u001B[39;00m\u001B[38;5;124m\"\u001B[39m)\n",
      "File \u001B[1;32m~\\PycharmProjects\\si\\src\\si\\models\\random_forest_classifier.py:100\u001B[0m, in \u001B[0;36mRandomForestClassifier.score\u001B[1;34m(self, dataset)\u001B[0m\n\u001B[0;32m     90\u001B[0m \u001B[38;5;28;01mdef\u001B[39;00m \u001B[38;5;21mscore\u001B[39m(\u001B[38;5;28mself\u001B[39m, dataset: Dataset) \u001B[38;5;241m-\u001B[39m\u001B[38;5;241m>\u001B[39m \u001B[38;5;28mfloat\u001B[39m:\n\u001B[0;32m     91\u001B[0m \u001B[38;5;250m    \u001B[39m\u001B[38;5;124;03m\"\"\"\u001B[39;00m\n\u001B[0;32m     92\u001B[0m \u001B[38;5;124;03m    Calculate the accuracy of the model on the test data.\u001B[39;00m\n\u001B[0;32m     93\u001B[0m \n\u001B[1;32m   (...)\u001B[0m\n\u001B[0;32m     98\u001B[0m \u001B[38;5;124;03m        float: The accuracy score.\u001B[39;00m\n\u001B[0;32m     99\u001B[0m \u001B[38;5;124;03m    \"\"\"\u001B[39;00m\n\u001B[1;32m--> 100\u001B[0m     y_pred \u001B[38;5;241m=\u001B[39m \u001B[38;5;28mself\u001B[39m\u001B[38;5;241m.\u001B[39mpredict(dataset)\n\u001B[0;32m    101\u001B[0m     \u001B[38;5;28;01mreturn\u001B[39;00m accuracy(dataset\u001B[38;5;241m.\u001B[39my, y_pred)\n",
      "File \u001B[1;32m~\\PycharmProjects\\si\\src\\si\\models\\random_forest_classifier.py:83\u001B[0m, in \u001B[0;36mRandomForestClassifier.predict\u001B[1;34m(self, dataset)\u001B[0m\n\u001B[0;32m     81\u001B[0m \u001B[38;5;28;01mfor\u001B[39;00m features, tree \u001B[38;5;129;01min\u001B[39;00m \u001B[38;5;28mself\u001B[39m\u001B[38;5;241m.\u001B[39mtrees:\n\u001B[0;32m     82\u001B[0m     x_subset \u001B[38;5;241m=\u001B[39m x[features]\n\u001B[1;32m---> 83\u001B[0m     subset_dataset \u001B[38;5;241m=\u001B[39m Dataset(X\u001B[38;5;241m=\u001B[39m[x_subset], features\u001B[38;5;241m=\u001B[39mdataset\u001B[38;5;241m.\u001B[39mfeatures, label\u001B[38;5;241m=\u001B[39mdataset\u001B[38;5;241m.\u001B[39mlabel)\n\u001B[0;32m     84\u001B[0m     predictions_tree\u001B[38;5;241m.\u001B[39mappend(tree\u001B[38;5;241m.\u001B[39mpredict(subset_dataset))\n\u001B[0;32m     85\u001B[0m most_common_prediction \u001B[38;5;241m=\u001B[39m \u001B[38;5;28mmax\u001B[39m(\u001B[38;5;28mset\u001B[39m(predictions_tree), key\u001B[38;5;241m=\u001B[39mpredictions_tree\u001B[38;5;241m.\u001B[39mcount)\n",
      "File \u001B[1;32m~\\PycharmProjects\\si\\src\\si\\data\\dataset.py:28\u001B[0m, in \u001B[0;36mDataset.__init__\u001B[1;34m(self, X, y, features, label)\u001B[0m\n\u001B[0;32m     26\u001B[0m     \u001B[38;5;28;01mraise\u001B[39;00m \u001B[38;5;167;01mValueError\u001B[39;00m(\u001B[38;5;124m\"\u001B[39m\u001B[38;5;124mX and y must have the same length\u001B[39m\u001B[38;5;124m\"\u001B[39m)\n\u001B[0;32m     27\u001B[0m \u001B[38;5;28;01mif\u001B[39;00m features \u001B[38;5;129;01mis\u001B[39;00m \u001B[38;5;129;01mnot\u001B[39;00m \u001B[38;5;28;01mNone\u001B[39;00m \u001B[38;5;129;01mand\u001B[39;00m \u001B[38;5;28mlen\u001B[39m(X[\u001B[38;5;241m0\u001B[39m]) \u001B[38;5;241m!=\u001B[39m \u001B[38;5;28mlen\u001B[39m(features):\n\u001B[1;32m---> 28\u001B[0m     \u001B[38;5;28;01mraise\u001B[39;00m \u001B[38;5;167;01mValueError\u001B[39;00m(\u001B[38;5;124m\"\u001B[39m\u001B[38;5;124mNumber of features must match the number of columns in X\u001B[39m\u001B[38;5;124m\"\u001B[39m)\n\u001B[0;32m     29\u001B[0m \u001B[38;5;28;01mif\u001B[39;00m features \u001B[38;5;129;01mis\u001B[39;00m \u001B[38;5;28;01mNone\u001B[39;00m:\n\u001B[0;32m     30\u001B[0m     features \u001B[38;5;241m=\u001B[39m [\u001B[38;5;124mf\u001B[39m\u001B[38;5;124m\"\u001B[39m\u001B[38;5;124mfeat_\u001B[39m\u001B[38;5;132;01m{\u001B[39;00m\u001B[38;5;28mstr\u001B[39m(i)\u001B[38;5;132;01m}\u001B[39;00m\u001B[38;5;124m\"\u001B[39m \u001B[38;5;28;01mfor\u001B[39;00m i \u001B[38;5;129;01min\u001B[39;00m \u001B[38;5;28mrange\u001B[39m(X\u001B[38;5;241m.\u001B[39mshape[\u001B[38;5;241m1\u001B[39m])]\n",
      "\u001B[1;31mValueError\u001B[0m: Number of features must match the number of columns in X"
     ]
    }
   ],
   "source": [
    "#Create the RandomForestClassifier model\n",
    "#. Train the model.\n",
    "\n",
    "model.fit(train)\n",
    "\n",
    "# Evaluate the model on the test dataset (test_dataset is an instance of Dataset)\n",
    "accuracy = model.score(test)\n",
    "print(f\"Accuracy on the test set: {accuracy:.2f}\")"
   ],
   "metadata": {
    "collapsed": false,
    "ExecuteTime": {
     "end_time": "2023-11-06T11:21:28.775227500Z",
     "start_time": "2023-11-06T11:21:22.884619800Z"
    }
   },
   "id": "5b7b91f2ec0572f1"
  },
  {
   "cell_type": "markdown",
   "source": [
    "# Test the StackingClassifier model"
   ],
   "metadata": {
    "collapsed": false
   },
   "id": "1f6ff031be2bb594"
  },
  {
   "cell_type": "code",
   "execution_count": 8,
   "outputs": [],
   "source": [
    "from si.models.knn_classifer import KNNClassifier\n",
    "from sklearn.preprocessing import StandardScaler\n",
    "from si.models.logistic_regression import LogisticRegression\n",
    "from si.ensemble.stacking_classifier import StackingClassifier\n",
    "from si.models.decision_tree_classifier import DecisionTreeClassifier\n",
    "from si.statistics.euclidean_distance import euclidean_distance"
   ],
   "metadata": {
    "collapsed": false,
    "ExecuteTime": {
     "end_time": "2023-11-06T11:14:59.563205300Z",
     "start_time": "2023-11-06T11:14:53.417392500Z"
    }
   },
   "id": "4f5ba32862c9c108"
  },
  {
   "cell_type": "code",
   "execution_count": 9,
   "outputs": [],
   "source": [
    "#Use the breast-bin.csv dataset\n",
    "\n",
    "breast_bin= read_csv(r\"C:\\Users\\anali\\PycharmProjects\\si\\datasets\\breast_bin\\breast-bin.csv\",sep= \",\", label= True, features=True )"
   ],
   "metadata": {
    "collapsed": false,
    "ExecuteTime": {
     "end_time": "2023-11-06T11:15:02.706932800Z",
     "start_time": "2023-11-06T11:15:02.680395300Z"
    }
   },
   "id": "5bbbd258d191db11"
  },
  {
   "cell_type": "code",
   "execution_count": 11,
   "outputs": [
    {
     "data": {
      "text/plain": "array([[ 0.20885295, -0.69912815, -0.74242297, ..., -1.0000359 ,\n        -0.61132565, -0.34418721],\n       [-0.8578253 , -0.69912815, -0.74242297, ..., -0.58991542,\n        -0.61132565, -0.34418721],\n       [-0.8578253 , -0.69912815, -0.74242297, ..., -0.17979494,\n        -0.61132565, -0.34418721],\n       ...,\n       [ 0.20885295, -0.37139715, -0.40592217, ..., -1.0000359 ,\n        -0.61132565,  0.23892607],\n       [-0.8578253 , -0.04366616, -0.40592217, ..., -0.17979494,\n        -0.61132565, -0.34418721],\n       [ 0.91997179,  0.93952681,  0.94008103, ...,  1.46068699,\n        -0.61132565, -0.34418721]])"
     },
     "execution_count": 11,
     "metadata": {},
     "output_type": "execute_result"
    }
   ],
   "source": [
    "# standardization\n",
    "\n",
    "breast_bin.X = StandardScaler().fit_transform(breast_bin.X)\n",
    "breast_bin.X"
   ],
   "metadata": {
    "collapsed": false,
    "ExecuteTime": {
     "end_time": "2023-11-06T11:16:08.006052600Z",
     "start_time": "2023-11-06T11:16:07.834021600Z"
    }
   },
   "id": "646407c39f2c2a8e"
  },
  {
   "cell_type": "code",
   "execution_count": 12,
   "outputs": [
    {
     "data": {
      "text/plain": "array([0., 1., 0., 0., 0., 0., 1., 0., 0., 1., 0., 1., 1., 1., 0., 0., 0.,\n       0., 1., 0., 0., 1., 0., 1., 1., 0., 0., 0., 0., 0., 1., 0., 1., 0.,\n       0., 0., 0., 0., 1., 1., 0., 0., 1., 0., 0., 1., 1., 0., 0., 1., 1.,\n       0., 1., 0., 0., 1., 0., 0., 1., 0., 1., 1., 1., 0., 0., 1., 0., 0.,\n       1., 0., 0., 0., 0., 0., 1., 0., 0., 1., 0., 1., 0., 1., 0., 0., 0.,\n       1., 1., 0., 0., 0., 0., 1., 0., 1., 1., 0., 0., 0., 0., 1., 1., 0.,\n       1., 1., 0., 1., 0., 0., 0., 1., 1., 1., 0., 0., 0., 1., 0., 1., 1.,\n       0., 0., 0., 1., 0., 0., 0., 0., 0., 0., 0., 0., 1., 0., 0., 0., 1.,\n       0., 0., 1.])"
     },
     "execution_count": 12,
     "metadata": {},
     "output_type": "execute_result"
    }
   ],
   "source": [
    "# split dataset\n",
    "\n",
    "train_dataset, test_dataset = train_test_split(breast_bin)\n",
    "test_dataset.y\n"
   ],
   "metadata": {
    "collapsed": false,
    "ExecuteTime": {
     "end_time": "2023-11-06T11:16:48.398206500Z",
     "start_time": "2023-11-06T11:16:48.350904100Z"
    }
   },
   "id": "8d80803dc6bc1add"
  },
  {
   "cell_type": "code",
   "execution_count": 15,
   "outputs": [],
   "source": [
    "# initialize the KNN, Logistic classifier and final model\n",
    "knn = KNNClassifier(k=3)\n",
    "lg_model = LogisticRegression(l2_penalty=1, alpha=0.001, max_iter=1000)\n",
    "dt_model = DecisionTreeClassifier()\n",
    "final_model = KNNClassifier(k=2, distance=euclidean_distance)"
   ],
   "metadata": {
    "collapsed": false,
    "ExecuteTime": {
     "end_time": "2023-11-06T11:17:09.445540400Z",
     "start_time": "2023-11-06T11:17:09.439333100Z"
    }
   },
   "id": "5ff44776796ff08b"
  },
  {
   "cell_type": "code",
   "execution_count": 16,
   "outputs": [],
   "source": [
    "# initialize the stacking classifier\n",
    "stacking = StackingClassifier([knn, lg_model, dt_model], final_model)"
   ],
   "metadata": {
    "collapsed": false,
    "ExecuteTime": {
     "end_time": "2023-11-06T11:17:17.960446800Z",
     "start_time": "2023-11-06T11:17:17.897533Z"
    }
   },
   "id": "8c37398e3a057d69"
  },
  {
   "cell_type": "code",
   "execution_count": 17,
   "outputs": [
    {
     "data": {
      "text/plain": "<si.ensemble.stacking_classifier.StackingClassifier at 0x27068f630d0>"
     },
     "execution_count": 17,
     "metadata": {},
     "output_type": "execute_result"
    }
   ],
   "source": [
    "stacking.fit(train_dataset)"
   ],
   "metadata": {
    "collapsed": false,
    "ExecuteTime": {
     "end_time": "2023-11-06T11:17:27.021888100Z",
     "start_time": "2023-11-06T11:17:25.687005700Z"
    }
   },
   "id": "979ef0ba54c3706a"
  },
  {
   "cell_type": "code",
   "execution_count": 18,
   "outputs": [
    {
     "data": {
      "text/plain": "array([1., 1., 0., 0., 0., 0., 1., 0., 0., 1., 0., 1., 1., 1., 0., 0., 0.,\n       0., 1., 0., 0., 1., 0., 1., 1., 0., 0., 0., 0., 0., 1., 0., 1., 0.,\n       0., 0., 0., 0., 1., 1., 0., 0., 1., 0., 0., 1., 1., 0., 0., 1., 1.,\n       0., 1., 0., 0., 1., 0., 0., 1., 0., 1., 1., 1., 0., 0., 1., 0., 0.,\n       1., 0., 0., 0., 0., 0., 1., 0., 0., 1., 0., 1., 0., 1., 0., 0., 0.,\n       1., 1., 0., 0., 0., 0., 1., 0., 1., 1., 0., 0., 0., 0., 1., 1., 0.,\n       1., 1., 0., 1., 0., 0., 0., 1., 1., 1., 0., 0., 0., 1., 0., 1., 1.,\n       0., 0., 0., 0., 0., 0., 0., 0., 0., 0., 0., 0., 1., 0., 0., 0., 1.,\n       0., 0., 1.])"
     },
     "execution_count": 18,
     "metadata": {},
     "output_type": "execute_result"
    }
   ],
   "source": [
    "stacking.predict(test_dataset)"
   ],
   "metadata": {
    "collapsed": false,
    "ExecuteTime": {
     "end_time": "2023-11-06T11:17:36.152950400Z",
     "start_time": "2023-11-06T11:17:36.096102800Z"
    }
   },
   "id": "35e7de8b257c9d5b"
  },
  {
   "cell_type": "code",
   "execution_count": 19,
   "outputs": [
    {
     "name": "stdout",
     "output_type": "stream",
     "text": [
      "The score of the model on the test set is : 0.9856115107913669\n"
     ]
    }
   ],
   "source": [
    "score = stacking.score(test_dataset)\n",
    "print(f\"The score of the model on the test set is : {score}\")"
   ],
   "metadata": {
    "collapsed": false,
    "ExecuteTime": {
     "end_time": "2023-11-06T11:18:18.913887700Z",
     "start_time": "2023-11-06T11:18:18.835321600Z"
    }
   },
   "id": "9cf35ac717c816d9"
  }
 ],
 "metadata": {
  "kernelspec": {
   "display_name": "Python 3",
   "language": "python",
   "name": "python3"
  },
  "language_info": {
   "codemirror_mode": {
    "name": "ipython",
    "version": 2
   },
   "file_extension": ".py",
   "mimetype": "text/x-python",
   "name": "python",
   "nbconvert_exporter": "python",
   "pygments_lexer": "ipython2",
   "version": "2.7.6"
  }
 },
 "nbformat": 4,
 "nbformat_minor": 5
}
