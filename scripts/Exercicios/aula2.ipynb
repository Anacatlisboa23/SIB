{
 "cells": [
  {
   "cell_type": "markdown",
   "source": [
    "# Test the SelectPercentile class #"
   ],
   "metadata": {
    "collapsed": false
   },
   "id": "bdc49f8dbdab07e1"
  },
  {
   "cell_type": "code",
   "execution_count": 2,
   "outputs": [],
   "source": [
    "from si.statistics.f_classification import f_classification\n",
    "from si.feature_selection.select_percentile import SelectPercentile\n",
    "from si.io.csv_file import read_csv"
   ],
   "metadata": {
    "collapsed": false,
    "ExecuteTime": {
     "end_time": "2023-10-13T14:05:55.067344200Z",
     "start_time": "2023-10-13T14:05:54.832821900Z"
    }
   },
   "id": "5e1dd9c7ca14b84f"
  },
  {
   "cell_type": "code",
   "execution_count": 12,
   "outputs": [],
   "source": [
    "df = read_csv (r\"C:\\Users\\anali\\PycharmProjects\\si\\datasets\\iris\\iris.csv\", sep=\",\", label=True, features=True)\n",
    "#df.print_dataframe()"
   ],
   "metadata": {
    "collapsed": false,
    "ExecuteTime": {
     "end_time": "2023-10-13T14:09:04.777012300Z",
     "start_time": "2023-10-13T14:09:04.745309200Z"
    }
   },
   "id": "d2a95c78fa815634"
  },
  {
   "cell_type": "code",
   "execution_count": 22,
   "outputs": [
    {
     "data": {
      "text/plain": "<si.data.dataset.Dataset at 0x29211a02ad0>"
     },
     "execution_count": 22,
     "metadata": {},
     "output_type": "execute_result"
    }
   ],
   "source": [
    "selector = SelectPercentile(percentile=50, score_func=f_classification)\n",
    "selector.fit_transform(df)"
   ],
   "metadata": {
    "collapsed": false,
    "ExecuteTime": {
     "end_time": "2023-10-13T15:52:59.832853900Z",
     "start_time": "2023-10-13T15:52:59.602361800Z"
    }
   },
   "id": "cd656e042244f2ae"
  },
  {
   "cell_type": "code",
   "execution_count": 21,
   "outputs": [
    {
     "data": {
      "text/plain": "array([ 119.26450218,   47.3644614 , 1179.0343277 ,  959.32440573])"
     },
     "execution_count": 21,
     "metadata": {},
     "output_type": "execute_result"
    }
   ],
   "source": [
    "selector.F\n"
   ],
   "metadata": {
    "collapsed": false,
    "ExecuteTime": {
     "end_time": "2023-10-13T15:52:54.184746400Z",
     "start_time": "2023-10-13T15:52:54.099825300Z"
    }
   },
   "id": "df0e222b2b3c90c6"
  },
  {
   "cell_type": "code",
   "execution_count": 24,
   "outputs": [
    {
     "data": {
      "text/plain": "array([1.66966919e-31, 1.32791652e-16, 3.05197580e-91, 4.37695696e-85])"
     },
     "execution_count": 24,
     "metadata": {},
     "output_type": "execute_result"
    }
   ],
   "source": [
    "selector.p"
   ],
   "metadata": {
    "collapsed": false,
    "ExecuteTime": {
     "end_time": "2023-10-13T15:53:19.095339Z",
     "start_time": "2023-10-13T15:53:18.112711200Z"
    }
   },
   "id": "b51c85add2e2b6d9"
  },
  {
   "cell_type": "code",
   "execution_count": 25,
   "outputs": [
    {
     "data": {
      "text/plain": "(150, 4)"
     },
     "execution_count": 25,
     "metadata": {},
     "output_type": "execute_result"
    }
   ],
   "source": [
    "transformed_df = selector.fit_transform(df)\n",
    "transformed_df.shape()"
   ],
   "metadata": {
    "collapsed": false,
    "ExecuteTime": {
     "end_time": "2023-10-13T15:53:35.603487700Z",
     "start_time": "2023-10-13T15:53:35.510787600Z"
    }
   },
   "id": "8757b6ccb280c79c"
  }
 ],
 "metadata": {
  "kernelspec": {
   "display_name": "Python 3",
   "language": "python",
   "name": "python3"
  },
  "language_info": {
   "codemirror_mode": {
    "name": "ipython",
    "version": 2
   },
   "file_extension": ".py",
   "mimetype": "text/x-python",
   "name": "python",
   "nbconvert_exporter": "python",
   "pygments_lexer": "ipython2",
   "version": "2.7.6"
  }
 },
 "nbformat": 4,
 "nbformat_minor": 5
}
