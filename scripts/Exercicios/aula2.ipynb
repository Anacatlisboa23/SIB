{
 "cells": [
  {
   "cell_type": "markdown",
   "source": [
    "# Test the SelectPercentile class #"
   ],
   "metadata": {
    "collapsed": false
   },
   "id": "bdc49f8dbdab07e1"
  },
  {
   "cell_type": "code",
   "execution_count": 1,
   "outputs": [],
   "source": [
    "from si.statistics.f_classification import f_classification\n",
    "from si.feature_selection.select_percentile import SelectPercentile\n",
    "from si.io.csv_file import read_csv"
   ],
   "metadata": {
    "collapsed": false,
    "ExecuteTime": {
     "end_time": "2023-11-16T14:38:03.166260200Z",
     "start_time": "2023-11-16T14:38:00.861699700Z"
    }
   },
   "id": "5e1dd9c7ca14b84f"
  },
  {
   "cell_type": "code",
   "execution_count": 2,
   "outputs": [],
   "source": [
    "df = read_csv (r\"C:\\Users\\pc\\PycharmProjects\\si\\datasets\\iris\\iris.csv\", sep=\",\", label=True, features=True)\n",
    "#df.print_dataframe()"
   ],
   "metadata": {
    "collapsed": false,
    "ExecuteTime": {
     "end_time": "2023-11-16T14:38:18.363364200Z",
     "start_time": "2023-11-16T14:38:18.343024400Z"
    }
   },
   "id": "d2a95c78fa815634"
  },
  {
   "cell_type": "code",
   "execution_count": 3,
   "outputs": [
    {
     "data": {
      "text/plain": "<si.data.dataset.Dataset at 0x254b8615c70>"
     },
     "execution_count": 3,
     "metadata": {},
     "output_type": "execute_result"
    }
   ],
   "source": [
    "selector = SelectPercentile(percentile=50, score_func=f_classification)\n",
    "selector.fit_transform(df)"
   ],
   "metadata": {
    "collapsed": false,
    "ExecuteTime": {
     "end_time": "2023-11-16T14:38:20.481097700Z",
     "start_time": "2023-11-16T14:38:20.465042Z"
    }
   },
   "id": "cd656e042244f2ae"
  },
  {
   "cell_type": "code",
   "execution_count": 5,
   "outputs": [
    {
     "data": {
      "text/plain": "array([ 119.26450218,   47.3644614 , 1179.0343277 ,  959.32440573])"
     },
     "execution_count": 5,
     "metadata": {},
     "output_type": "execute_result"
    }
   ],
   "source": [
    "selector.F\n"
   ],
   "metadata": {
    "collapsed": false,
    "ExecuteTime": {
     "end_time": "2023-11-16T14:38:36.541139100Z",
     "start_time": "2023-11-16T14:38:36.532473600Z"
    }
   },
   "id": "df0e222b2b3c90c6"
  },
  {
   "cell_type": "code",
   "execution_count": 6,
   "outputs": [
    {
     "data": {
      "text/plain": "array([1.66966919e-31, 1.32791652e-16, 3.05197580e-91, 4.37695696e-85])"
     },
     "execution_count": 6,
     "metadata": {},
     "output_type": "execute_result"
    }
   ],
   "source": [
    "selector.p"
   ],
   "metadata": {
    "collapsed": false,
    "ExecuteTime": {
     "end_time": "2023-11-16T14:38:39.154616700Z",
     "start_time": "2023-11-16T14:38:39.142069200Z"
    }
   },
   "id": "b51c85add2e2b6d9"
  },
  {
   "cell_type": "code",
   "execution_count": 7,
   "outputs": [
    {
     "data": {
      "text/plain": "(150, 4)"
     },
     "execution_count": 7,
     "metadata": {},
     "output_type": "execute_result"
    }
   ],
   "source": [
    "transformed_df = selector.fit_transform(df)\n",
    "transformed_df.shape()"
   ],
   "metadata": {
    "collapsed": false,
    "ExecuteTime": {
     "end_time": "2023-11-16T14:38:41.827764Z",
     "start_time": "2023-11-16T14:38:41.811605Z"
    }
   },
   "id": "8757b6ccb280c79c"
  }
 ],
 "metadata": {
  "kernelspec": {
   "display_name": "Python 3",
   "language": "python",
   "name": "python3"
  },
  "language_info": {
   "codemirror_mode": {
    "name": "ipython",
    "version": 2
   },
   "file_extension": ".py",
   "mimetype": "text/x-python",
   "name": "python",
   "nbconvert_exporter": "python",
   "pygments_lexer": "ipython2",
   "version": "2.7.6"
  }
 },
 "nbformat": 4,
 "nbformat_minor": 5
}
