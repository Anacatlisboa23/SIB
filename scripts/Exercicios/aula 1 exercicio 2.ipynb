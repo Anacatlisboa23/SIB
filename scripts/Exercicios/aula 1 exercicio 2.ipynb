{
 "cells": [
  {
   "cell_type": "code",
   "execution_count": 1,
   "outputs": [],
   "source": [
    "import pandas as pd\n",
    "import numpy as np"
   ],
   "metadata": {
    "collapsed": false,
    "ExecuteTime": {
     "end_time": "2023-11-16T14:37:45.726857300Z",
     "start_time": "2023-11-16T14:37:44.813368Z"
    }
   },
   "id": "c1c3a0922d41271c"
  },
  {
   "cell_type": "markdown",
   "source": [
    "2.1- Add a method to the Dataset class that removes all samples \n",
    "containing at least one null value (NaN).\n",
    "Method name: dropna\n"
   ],
   "metadata": {
    "collapsed": false
   },
   "id": "7dd3e64f896ddcd9"
  },
  {
   "cell_type": "code",
   "execution_count": 2,
   "outputs": [],
   "source": [
    " def dropna (self):\n",
    "        \"\"\"\n",
    "        Remove rows with missing values (NaN) from the dataset.\n",
    "\n",
    "        This method removes rows from the dataset where any element in the feature matrix `X` is NaN.\n",
    "        It updates both the feature matrix `X` and the corresponding target vector `y`.\n",
    "\n",
    "        Returns:\n",
    "            None\n",
    "        \"\"\"\n",
    "        masc_na = np.logical_not(np.any(np.isnan(self.X), axis=1))\n",
    "        self.X = self.X[masc_na, :]\n",
    "        self.y = self.y[masc_na]\n",
    "        \n"
   ],
   "metadata": {
    "collapsed": false,
    "ExecuteTime": {
     "end_time": "2023-11-16T14:37:47.053381400Z",
     "start_time": "2023-11-16T14:37:47.037598500Z"
    }
   },
   "id": "initial_id"
  },
  {
   "cell_type": "markdown",
   "source": [
    "• 2.2 - Add a method to the Dataset class that replaces all null \n",
    "values with another value or the mean or median of the \n",
    "feature/variable. Method name: fillna\n"
   ],
   "metadata": {
    "collapsed": false
   },
   "id": "b9fc13f4d29c3e91"
  },
  {
   "cell_type": "code",
   "execution_count": 3,
   "outputs": [],
   "source": [
    " def fillna(self, valor):\n",
    "        \"\"\"\n",
    "        Fill missing values (NaN) in the dataset with a specified value.\n",
    "\n",
    "        This method replaces all NaN values in the feature matrix `X` with the specified `value`.\n",
    "\n",
    "        Args:\n",
    "            value: The value to use for filling NaN entries.\n",
    "\n",
    "        Returns:\n",
    "            None\n",
    "        \"\"\"\n",
    "        self.X = np.nan_to_num(self.X, nan=valor)"
   ],
   "metadata": {
    "collapsed": false,
    "ExecuteTime": {
     "end_time": "2023-11-16T14:37:50.996106700Z",
     "start_time": "2023-11-16T14:37:50.995601500Z"
    }
   },
   "id": "2a6a40d3daef727"
  },
  {
   "cell_type": "markdown",
   "source": [
    "2.3 - Add a method to the Dataset class that removes a sample \n",
    "by its index.\n",
    "Method name: remove_by_inde"
   ],
   "metadata": {
    "collapsed": false
   },
   "id": "fb1ff174bd592e94"
  },
  {
   "cell_type": "code",
   "execution_count": 4,
   "outputs": [],
   "source": [
    "def remove_by_index(self, index: int):\n",
    "            \"\"\"\n",
    "            Removes a sample by its index and updates the 'y' vector.\n",
    "\n",
    "            Parameters\n",
    "            ----------\n",
    "            index : int\n",
    "                The index of the sample to remove.\n",
    "            \"\"\"\n",
    "            if index < 0 or index >= len(self.X):\n",
    "                raise ValueError(\"Invalid index\")\n",
    "\n",
    "            self.X = np.delete(self.X, index, axis=0)\n",
    "\n",
    "            if self.y is not None:\n",
    "                \n",
    "                self.y = np.delete(self.y, index)"
   ],
   "metadata": {
    "collapsed": false,
    "ExecuteTime": {
     "end_time": "2023-11-16T14:37:53.615351400Z",
     "start_time": "2023-11-16T14:37:53.608299100Z"
    }
   },
   "id": "13564eec040376f3"
  }
 ],
 "metadata": {
  "kernelspec": {
   "display_name": "Python 3",
   "language": "python",
   "name": "python3"
  },
  "language_info": {
   "codemirror_mode": {
    "name": "ipython",
    "version": 2
   },
   "file_extension": ".py",
   "mimetype": "text/x-python",
   "name": "python",
   "nbconvert_exporter": "python",
   "pygments_lexer": "ipython2",
   "version": "2.7.6"
  }
 },
 "nbformat": 4,
 "nbformat_minor": 5
}
