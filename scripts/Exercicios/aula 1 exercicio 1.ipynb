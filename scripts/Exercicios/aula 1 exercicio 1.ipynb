{
 "cells": [
  {
   "cell_type": "markdown",
   "source": [
    "# Exercise 1: NumPy array Indexing/Slicing #"
   ],
   "metadata": {
    "collapsed": false
   },
   "id": "b2c61921101503a4"
  },
  {
   "cell_type": "code",
   "execution_count": 1,
   "outputs": [],
   "source": [
    "import pandas as pd\n",
    "import numpy as np"
   ],
   "metadata": {
    "collapsed": false,
    "ExecuteTime": {
     "end_time": "2023-11-16T14:32:38.136843200Z",
     "start_time": "2023-11-16T14:31:49.354659200Z"
    }
   },
   "id": "629a012632f591b7"
  },
  {
   "cell_type": "markdown",
   "source": [
    "1.1 - In this exercise, we will use the iris dataset. Load the\n",
    "\"iris.csv\" using the appropriate method for this file type (use \n",
    "the new functions from the package)."
   ],
   "metadata": {
    "collapsed": false
   },
   "id": "24414f4a04163c0c"
  },
  {
   "cell_type": "code",
   "execution_count": 2,
   "outputs": [
    {
     "name": "stdout",
     "output_type": "stream",
     "text": [
      "   sepal_length  sepal_width  petal_length  petal_width        class\n",
      "0           5.1          3.5           1.4          0.2  Iris-setosa\n",
      "1           4.9          3.0           1.4          0.2  Iris-setosa\n",
      "2           4.7          3.2           1.3          0.2  Iris-setosa\n",
      "3           4.6          3.1           1.5          0.2  Iris-setosa\n",
      "4           5.0          3.6           1.4          0.2  Iris-setosa\n"
     ]
    }
   ],
   "source": [
    "#ficheiro ='C:\\\\Users\\\\catarina\\\\si\\\\datasets\\\\iris\\\\iris.csv' \n",
    "ficheiro = r'C:\\Users\\pc\\PycharmProjects\\si\\datasets\\iris\\iris.csv' #pc novo\n",
    "df = pd.read_csv(ficheiro)\n",
    "print(df.head())"
   ],
   "metadata": {
    "collapsed": false,
    "ExecuteTime": {
     "end_time": "2023-11-16T14:37:22.854391500Z",
     "start_time": "2023-11-16T14:37:22.805316300Z"
    }
   },
   "id": "3225002a892da692"
  },
  {
   "cell_type": "markdown",
   "source": [
    "1.2 - Select the penultimate independent variable. What is the\n",
    "dimension of the resulting array?"
   ],
   "metadata": {
    "collapsed": false
   },
   "id": "7fe165b2dc7ac8ff"
  },
  {
   "cell_type": "code",
   "execution_count": 3,
   "outputs": [
    {
     "name": "stdout",
     "output_type": "stream",
     "text": [
      "(150,)\n"
     ]
    }
   ],
   "source": [
    "penultimate_variable = df.iloc[:, -2]\n",
    "dimension = penultimate_variable.shape\n",
    "print(dimension)\n",
    "\n",
    "#dimensão (150,) é uma estrutura unidimensional (um array ou uma série) e possui 150 elementos numa única dimensão"
   ],
   "metadata": {
    "collapsed": false,
    "ExecuteTime": {
     "end_time": "2023-10-13T13:44:33.091181400Z",
     "start_time": "2023-10-13T13:44:33.079243100Z"
    }
   },
   "id": "d125856a89179fe8"
  },
  {
   "cell_type": "markdown",
   "source": [
    " 1.3 - Select the last 10 samples from the iris dataset. What is the\n",
    "mean of the last 10 samples for each independent\n",
    "variable/feature?"
   ],
   "metadata": {
    "collapsed": false
   },
   "id": "495a893d2b97bcba"
  },
  {
   "cell_type": "code",
   "execution_count": 4,
   "outputs": [
    {
     "name": "stdout",
     "output_type": "stream",
     "text": [
      "sepal_length    6.45\n",
      "sepal_width     3.03\n",
      "petal_length    5.33\n",
      "petal_width     2.17\n",
      "dtype: float64\n"
     ]
    }
   ],
   "source": [
    "last10samples=df.tail(10)\n",
    "means = last10samples.mean(numeric_only=True)\n",
    "print (means)"
   ],
   "metadata": {
    "collapsed": false,
    "ExecuteTime": {
     "end_time": "2023-10-13T13:46:40.539308600Z",
     "start_time": "2023-10-13T13:46:40.012396400Z"
    }
   },
   "id": "60cdb2d1ca1add9c"
  },
  {
   "cell_type": "markdown",
   "source": [
    "1.4 - Select all samples from the dataset with values less than or\n",
    "equal to 6 for all independent variables/features. How many\n",
    "samples do you obtain?"
   ],
   "metadata": {
    "collapsed": false
   },
   "id": "c38c0589a58040a"
  },
  {
   "cell_type": "code",
   "execution_count": 5,
   "outputs": [
    {
     "name": "stdout",
     "output_type": "stream",
     "text": [
      "89\n"
     ]
    }
   ],
   "source": [
    "mask = (df.iloc[:, :-1] <= 6).all(axis=1)\n",
    "selected_samples = df[mask]\n",
    "num_samples = selected_samples.shape[0]\n",
    "print(num_samples) #89 amostras"
   ],
   "metadata": {
    "collapsed": false,
    "ExecuteTime": {
     "end_time": "2023-10-13T13:48:11.844506500Z",
     "start_time": "2023-10-13T13:48:11.203779700Z"
    }
   },
   "id": "62c4bb95a5e353a"
  },
  {
   "cell_type": "markdown",
   "source": [
    "1.5 - Select all samples with a class/label differentfrom 'Iris\u0002setosa'. How many samples do you obtain?"
   ],
   "metadata": {
    "collapsed": false
   },
   "id": "abd1cdad94845b17"
  },
  {
   "cell_type": "code",
   "execution_count": 6,
   "outputs": [
    {
     "name": "stdout",
     "output_type": "stream",
     "text": [
      "100\n"
     ]
    }
   ],
   "source": [
    "filtered_samples = df[df['class'] != 'Iris-setosa']\n",
    "num_saples_filtered= filtered_samples.shape[0]\n",
    "print(num_saples_filtered) #100"
   ],
   "metadata": {
    "collapsed": false,
    "ExecuteTime": {
     "end_time": "2023-10-13T13:48:59.086866900Z",
     "start_time": "2023-10-13T13:48:58.355027600Z"
    }
   },
   "id": "f14353da4276f369"
  }
 ],
 "metadata": {
  "kernelspec": {
   "display_name": "Python 3",
   "language": "python",
   "name": "python3"
  },
  "language_info": {
   "codemirror_mode": {
    "name": "ipython",
    "version": 2
   },
   "file_extension": ".py",
   "mimetype": "text/x-python",
   "name": "python",
   "nbconvert_exporter": "python",
   "pygments_lexer": "ipython2",
   "version": "2.7.6"
  }
 },
 "nbformat": 4,
 "nbformat_minor": 5
}
