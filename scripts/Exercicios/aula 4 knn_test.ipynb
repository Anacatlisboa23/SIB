{
 "cells": [
  {
   "cell_type": "markdown",
   "source": [
    "#  Exercise 3- Implement KNN Regressor: #"
   ],
   "metadata": {
    "collapsed": false
   },
   "id": "3e4b98165ed63a62"
  },
  {
   "cell_type": "code",
   "execution_count": 3,
   "outputs": [],
   "source": [
    "from si.models.knn_regressor import KNNRegressor\n",
    "from si.model_selection.split import train_test_split\n",
    "from si.io.csv_file import read_csv\n",
    "from si.statistics.euclidean_distance import euclidean_distance"
   ],
   "metadata": {
    "collapsed": false,
    "ExecuteTime": {
     "end_time": "2023-12-14T20:24:00.778572900Z",
     "start_time": "2023-12-14T20:24:00.750817800Z"
    }
   },
   "id": "initial_id"
  },
  {
   "cell_type": "markdown",
   "source": [
    "Exercise 3.3: Test the object KNNRegressor in jupyter notebook using the cpu.csv dataset."
   ],
   "metadata": {
    "collapsed": false
   },
   "id": "f65e2840631484f1"
  },
  {
   "cell_type": "code",
   "execution_count": 22,
   "outputs": [],
   "source": [
    "df= read_csv (r'C:\\Users\\pc\\PycharmProjects\\si\\datasets\\cpu\\cpu.csv', sep=\",\", label =True, features=True)"
   ],
   "metadata": {
    "collapsed": false,
    "ExecuteTime": {
     "end_time": "2023-12-14T19:59:38.975722700Z",
     "start_time": "2023-12-14T19:59:38.928773800Z"
    }
   },
   "id": "22059486cba68dcd"
  },
  {
   "cell_type": "code",
   "execution_count": 3,
   "outputs": [],
   "source": [
    "train, test = train_test_split(df)"
   ],
   "metadata": {
    "collapsed": false,
    "ExecuteTime": {
     "end_time": "2023-11-16T14:41:36.344252400Z",
     "start_time": "2023-11-16T14:41:36.333077400Z"
    }
   },
   "id": "ff2c54ddaddfc10a"
  },
  {
   "cell_type": "code",
   "execution_count": 4,
   "outputs": [
    {
     "data": {
      "text/plain": "<si.models.knn_regressor.KNNRegressor at 0x1cb164fe990>"
     },
     "execution_count": 4,
     "metadata": {},
     "output_type": "execute_result"
    }
   ],
   "source": [
    "k = 2\n",
    "distance = euclidean_distance\n",
    "kmeans = KNNRegressor(k, distance)\n",
    "kmeans.fit(train)"
   ],
   "metadata": {
    "collapsed": false,
    "ExecuteTime": {
     "end_time": "2023-11-16T14:41:38.881441100Z",
     "start_time": "2023-11-16T14:41:38.874121500Z"
    }
   },
   "id": "47cedc97bab4f9ff"
  },
  {
   "cell_type": "code",
   "execution_count": 5,
   "outputs": [
    {
     "data": {
      "text/plain": "61.366501945080834"
     },
     "execution_count": 5,
     "metadata": {},
     "output_type": "execute_result"
    }
   ],
   "source": [
    "kmeans.score(test)"
   ],
   "metadata": {
    "collapsed": false,
    "ExecuteTime": {
     "end_time": "2023-11-16T14:41:41.391499600Z",
     "start_time": "2023-11-16T14:41:41.378121600Z"
    }
   },
   "id": "43afca941d9cec0c"
  },
  {
   "cell_type": "markdown",
   "source": [
    "# Exercicio 6.2 stratified_train_test_split"
   ],
   "metadata": {
    "collapsed": false
   },
   "id": "74b061fb349668fb"
  },
  {
   "cell_type": "code",
   "execution_count": 4,
   "outputs": [],
   "source": [
    "from si.model_selection.split import stratified_train_test_split, train_test_split\n",
    "from si.data.dataset import Dataset\n"
   ],
   "metadata": {
    "collapsed": false,
    "ExecuteTime": {
     "end_time": "2023-12-14T20:24:03.567491500Z",
     "start_time": "2023-12-14T20:24:03.520237800Z"
    }
   },
   "id": "82d37978616d9a53"
  },
  {
   "cell_type": "code",
   "execution_count": 5,
   "outputs": [],
   "source": [
    "dataset= read_csv  (r\"C:\\Users\\pc\\PycharmProjects\\si\\datasets\\iris\\iris.csv \" , sep=\",\", label =True, features=True)"
   ],
   "metadata": {
    "collapsed": false,
    "ExecuteTime": {
     "end_time": "2023-12-14T20:24:05.396278600Z",
     "start_time": "2023-12-14T20:24:05.333592600Z"
    }
   },
   "id": "5a4d31a60220058c"
  },
  {
   "cell_type": "code",
   "execution_count": 6,
   "outputs": [
    {
     "data": {
      "text/plain": "array(['Iris-setosa', 'Iris-versicolor', 'Iris-virginica'], dtype=object)"
     },
     "execution_count": 6,
     "metadata": {},
     "output_type": "execute_result"
    }
   ],
   "source": [
    "dataset.shape()  \n",
    "dataset.get_classes()"
   ],
   "metadata": {
    "collapsed": false,
    "ExecuteTime": {
     "end_time": "2023-12-14T20:24:07.365192700Z",
     "start_time": "2023-12-14T20:24:07.342420100Z"
    }
   },
   "id": "b8de2b3e3a28b89e"
  },
  {
   "cell_type": "code",
   "execution_count": 7,
   "outputs": [
    {
     "name": "stdout",
     "output_type": "stream",
     "text": [
      "Train data:  (120, 4)\n",
      "Test Data:  (30, 4)\n"
     ]
    }
   ],
   "source": [
    "train_data, test_data = stratified_train_test_split(dataset, test_size=0.2, random_state=42)\n",
    "print('Train data: ', train_data.shape())\n",
    "print('Test Data: ', test_data.shape())"
   ],
   "metadata": {
    "collapsed": false,
    "ExecuteTime": {
     "end_time": "2023-12-14T20:24:11.397847900Z",
     "start_time": "2023-12-14T20:24:11.313005300Z"
    }
   },
   "id": "9b87c30fce9b8be0"
  }
 ],
 "metadata": {
  "kernelspec": {
   "display_name": "Python 3",
   "language": "python",
   "name": "python3"
  },
  "language_info": {
   "codemirror_mode": {
    "name": "ipython",
    "version": 2
   },
   "file_extension": ".py",
   "mimetype": "text/x-python",
   "name": "python",
   "nbconvert_exporter": "python",
   "pygments_lexer": "ipython2",
   "version": "2.7.6"
  }
 },
 "nbformat": 4,
 "nbformat_minor": 5
}
