{
 "cells": [
  {
   "cell_type": "markdown",
   "source": [
    "#  Exercise 3- Implement KNN Regressor: #"
   ],
   "metadata": {
    "collapsed": false
   },
   "id": "3e4b98165ed63a62"
  },
  {
   "cell_type": "code",
   "execution_count": 1,
   "outputs": [],
   "source": [
    "from si.models.knn_regressor import KNNRegressor\n",
    "from si.model_selection.split import train_test_split\n",
    "from si.io.csv_file import read_csv\n",
    "from si.statistics.euclidean_distance import euclidean_distance"
   ],
   "metadata": {
    "collapsed": false,
    "ExecuteTime": {
     "end_time": "2023-11-16T14:41:18.408525800Z",
     "start_time": "2023-11-16T14:41:17.599693800Z"
    }
   },
   "id": "initial_id"
  },
  {
   "cell_type": "markdown",
   "source": [
    "Exercise 3.3: Test the object KNNRegressor in jupyter notebook using the cpu.csv dataset."
   ],
   "metadata": {
    "collapsed": false
   },
   "id": "f65e2840631484f1"
  },
  {
   "cell_type": "code",
   "execution_count": 2,
   "outputs": [],
   "source": [
    "df= read_csv (r'C:\\Users\\pc\\PycharmProjects\\si\\datasets\\cpu\\cpu.csv', sep=\",\", label =True, features=True)"
   ],
   "metadata": {
    "collapsed": false,
    "ExecuteTime": {
     "end_time": "2023-11-16T14:41:34.017480300Z",
     "start_time": "2023-11-16T14:41:33.996074200Z"
    }
   },
   "id": "22059486cba68dcd"
  },
  {
   "cell_type": "code",
   "execution_count": 3,
   "outputs": [],
   "source": [
    "train, test = train_test_split(df)"
   ],
   "metadata": {
    "collapsed": false,
    "ExecuteTime": {
     "end_time": "2023-11-16T14:41:36.344252400Z",
     "start_time": "2023-11-16T14:41:36.333077400Z"
    }
   },
   "id": "ff2c54ddaddfc10a"
  },
  {
   "cell_type": "code",
   "execution_count": 4,
   "outputs": [
    {
     "data": {
      "text/plain": "<si.models.knn_regressor.KNNRegressor at 0x1cb164fe990>"
     },
     "execution_count": 4,
     "metadata": {},
     "output_type": "execute_result"
    }
   ],
   "source": [
    "k = 2\n",
    "distance = euclidean_distance\n",
    "kmeans = KNNRegressor(k, distance)\n",
    "kmeans.fit(train)"
   ],
   "metadata": {
    "collapsed": false,
    "ExecuteTime": {
     "end_time": "2023-11-16T14:41:38.881441100Z",
     "start_time": "2023-11-16T14:41:38.874121500Z"
    }
   },
   "id": "47cedc97bab4f9ff"
  },
  {
   "cell_type": "code",
   "execution_count": 5,
   "outputs": [
    {
     "data": {
      "text/plain": "61.366501945080834"
     },
     "execution_count": 5,
     "metadata": {},
     "output_type": "execute_result"
    }
   ],
   "source": [
    "kmeans.score(test)"
   ],
   "metadata": {
    "collapsed": false,
    "ExecuteTime": {
     "end_time": "2023-11-16T14:41:41.391499600Z",
     "start_time": "2023-11-16T14:41:41.378121600Z"
    }
   },
   "id": "43afca941d9cec0c"
  }
 ],
 "metadata": {
  "kernelspec": {
   "display_name": "Python 3",
   "language": "python",
   "name": "python3"
  },
  "language_info": {
   "codemirror_mode": {
    "name": "ipython",
    "version": 2
   },
   "file_extension": ".py",
   "mimetype": "text/x-python",
   "name": "python",
   "nbconvert_exporter": "python",
   "pygments_lexer": "ipython2",
   "version": "2.7.6"
  }
 },
 "nbformat": 4,
 "nbformat_minor": 5
}
