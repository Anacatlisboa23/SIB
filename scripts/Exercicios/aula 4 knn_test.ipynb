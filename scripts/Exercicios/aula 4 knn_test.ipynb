{
 "cells": [
  {
   "cell_type": "markdown",
   "source": [
    "#  Exercise 3- Implement KNN Regressor: #"
   ],
   "metadata": {
    "collapsed": false
   },
   "id": "3e4b98165ed63a62"
  },
  {
   "cell_type": "code",
   "execution_count": 1,
   "outputs": [],
   "source": [
    "from si.models.knn_regressor import KNNRegressor\n",
    "from si.model_selection.split import train_test_split\n",
    "from si.io.csv_file import read_csv\n",
    "from si.statistics.euclidean_distance import euclidean_distance"
   ],
   "metadata": {
    "collapsed": false,
    "ExecuteTime": {
     "end_time": "2023-10-16T11:09:57.727597600Z",
     "start_time": "2023-10-16T11:09:56.052745200Z"
    }
   },
   "id": "initial_id"
  },
  {
   "cell_type": "markdown",
   "source": [
    "Exercise 3.3: Test the object KNNRegressor in jupyter notebook using the cpu.csv dataset."
   ],
   "metadata": {
    "collapsed": false
   },
   "id": "f65e2840631484f1"
  },
  {
   "cell_type": "code",
   "execution_count": 2,
   "outputs": [],
   "source": [
    "df= read_csv (r'C:\\Users\\anali\\PycharmProjects\\si\\datasets\\cpu\\cpu.csv', sep=\",\", label =True, features=True)"
   ],
   "metadata": {
    "collapsed": false,
    "ExecuteTime": {
     "end_time": "2023-10-16T11:10:00.524567200Z",
     "start_time": "2023-10-16T11:10:00.383450900Z"
    }
   },
   "id": "22059486cba68dcd"
  },
  {
   "cell_type": "code",
   "execution_count": 3,
   "outputs": [],
   "source": [
    "train, test = train_test_split(df)"
   ],
   "metadata": {
    "collapsed": false,
    "ExecuteTime": {
     "end_time": "2023-10-16T11:10:01.862445100Z",
     "start_time": "2023-10-16T11:10:01.842731600Z"
    }
   },
   "id": "ff2c54ddaddfc10a"
  },
  {
   "cell_type": "code",
   "execution_count": 4,
   "outputs": [
    {
     "data": {
      "text/plain": "<si.models.knn_regressor.KNNRegressor at 0x27c7d83fd50>"
     },
     "execution_count": 4,
     "metadata": {},
     "output_type": "execute_result"
    }
   ],
   "source": [
    "k = 2\n",
    "distance = euclidean_distance\n",
    "kmeans = KNNRegressor(k, distance)\n",
    "kmeans.fit(train)"
   ],
   "metadata": {
    "collapsed": false,
    "ExecuteTime": {
     "end_time": "2023-10-16T11:10:03.988845600Z",
     "start_time": "2023-10-16T11:10:03.980073700Z"
    }
   },
   "id": "47cedc97bab4f9ff"
  },
  {
   "cell_type": "code",
   "execution_count": 5,
   "outputs": [
    {
     "data": {
      "text/plain": "61.366501945080834"
     },
     "execution_count": 5,
     "metadata": {},
     "output_type": "execute_result"
    }
   ],
   "source": [
    "kmeans.score(test)"
   ],
   "metadata": {
    "collapsed": false,
    "ExecuteTime": {
     "end_time": "2023-10-16T11:10:31.601097100Z",
     "start_time": "2023-10-16T11:10:31.475639900Z"
    }
   },
   "id": "43afca941d9cec0c"
  }
 ],
 "metadata": {
  "kernelspec": {
   "display_name": "Python 3",
   "language": "python",
   "name": "python3"
  },
  "language_info": {
   "codemirror_mode": {
    "name": "ipython",
    "version": 2
   },
   "file_extension": ".py",
   "mimetype": "text/x-python",
   "name": "python",
   "nbconvert_exporter": "python",
   "pygments_lexer": "ipython2",
   "version": "2.7.6"
  }
 },
 "nbformat": 4,
 "nbformat_minor": 5
}
