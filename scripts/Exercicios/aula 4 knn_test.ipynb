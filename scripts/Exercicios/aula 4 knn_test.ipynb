{
 "cells": [
  {
   "cell_type": "markdown",
   "source": [
    "#  Exercise 3- Implement KNN Regressor: #"
   ],
   "metadata": {
    "collapsed": false
   },
   "id": "3e4b98165ed63a62"
  },
  {
   "cell_type": "code",
   "execution_count": 32,
   "outputs": [],
   "source": [
    "from si.models.knn_regressor import KNNRegressor\n",
    "from si.model_selection.split import train_test_split\n",
    "from si.io.csv_file import read_csv\n",
    "from si.statistics.euclidean_distance import euclidean_distance"
   ],
   "metadata": {
    "collapsed": false,
    "ExecuteTime": {
     "end_time": "2023-10-14T14:38:56.426932800Z",
     "start_time": "2023-10-14T14:38:56.305352100Z"
    }
   },
   "id": "initial_id"
  },
  {
   "cell_type": "markdown",
   "source": [
    "Exercise 3.3: Test the object KNNRegressor in jupyter notebook using the cpu.csv dataset."
   ],
   "metadata": {
    "collapsed": false
   },
   "id": "f65e2840631484f1"
  },
  {
   "cell_type": "code",
   "execution_count": 33,
   "outputs": [],
   "source": [
    "df= read_csv (r'C:\\Users\\anali\\PycharmProjects\\si\\datasets\\cpu\\cpu.csv', sep=\",\", label =True, features=True)"
   ],
   "metadata": {
    "collapsed": false,
    "ExecuteTime": {
     "end_time": "2023-10-14T14:38:58.866251500Z",
     "start_time": "2023-10-14T14:38:58.647780900Z"
    }
   },
   "id": "22059486cba68dcd"
  },
  {
   "cell_type": "code",
   "execution_count": 34,
   "outputs": [],
   "source": [
    "train, test = train_test_split(df)"
   ],
   "metadata": {
    "collapsed": false,
    "ExecuteTime": {
     "end_time": "2023-10-14T14:39:00.676709100Z",
     "start_time": "2023-10-14T14:39:00.631472200Z"
    }
   },
   "id": "ff2c54ddaddfc10a"
  },
  {
   "cell_type": "code",
   "execution_count": 39,
   "outputs": [
    {
     "ename": "TypeError",
     "evalue": "KNNRegressor.__init__() takes from 1 to 2 positional arguments but 3 were given",
     "output_type": "error",
     "traceback": [
      "\u001B[1;31m---------------------------------------------------------------------------\u001B[0m",
      "\u001B[1;31mTypeError\u001B[0m                                 Traceback (most recent call last)",
      "Cell \u001B[1;32mIn[39], line 4\u001B[0m\n\u001B[0;32m      2\u001B[0m k \u001B[38;5;241m=\u001B[39m \u001B[38;5;241m2\u001B[39m\n\u001B[0;32m      3\u001B[0m distance \u001B[38;5;241m=\u001B[39m euclidean_distance\n\u001B[1;32m----> 4\u001B[0m kmeans \u001B[38;5;241m=\u001B[39m KNNRegressor(k, distance)\n\u001B[0;32m      5\u001B[0m kmeans\u001B[38;5;241m.\u001B[39mfit(train)\n",
      "\u001B[1;31mTypeError\u001B[0m: KNNRegressor.__init__() takes from 1 to 2 positional arguments but 3 were given"
     ]
    }
   ],
   "source": [
    "k = 2\n",
    "distance = euclidean_distance\n",
    "kmeans = KNNRegressor(k, distance)\n",
    "kmeans.fit(train)"
   ],
   "metadata": {
    "collapsed": false,
    "ExecuteTime": {
     "end_time": "2023-10-14T14:41:35.240202300Z",
     "start_time": "2023-10-14T14:41:34.040393600Z"
    }
   },
   "id": "47cedc97bab4f9ff"
  },
  {
   "cell_type": "code",
   "execution_count": null,
   "outputs": [],
   "source": [],
   "metadata": {
    "collapsed": false
   },
   "id": "43afca941d9cec0c"
  }
 ],
 "metadata": {
  "kernelspec": {
   "display_name": "Python 3",
   "language": "python",
   "name": "python3"
  },
  "language_info": {
   "codemirror_mode": {
    "name": "ipython",
    "version": 2
   },
   "file_extension": ".py",
   "mimetype": "text/x-python",
   "name": "python",
   "nbconvert_exporter": "python",
   "pygments_lexer": "ipython2",
   "version": "2.7.6"
  }
 },
 "nbformat": 4,
 "nbformat_minor": 5
}
