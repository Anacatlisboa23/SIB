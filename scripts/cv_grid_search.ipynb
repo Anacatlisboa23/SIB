{
 "cells": [
  {
   "cell_type": "markdown",
   "source": [
    "SIB - P7\n",
    "A Jupyter Notebook with examples of how to use the voting classifier. 7/11/2022"
   ],
   "metadata": {
    "collapsed": false
   }
  },
  {
   "cell_type": "code",
   "execution_count": 1,
   "outputs": [],
   "source": [
    "# imports\n",
    "from si.io.csv import read_csv\n",
    "from si.linear_model.logistic_regression import LogisticRegression\n",
    "from si.model_selection.cross_validate import cross_validate\n",
    "from si.model_selection.grid_search import grid_search_cv"
   ],
   "metadata": {
    "collapsed": false
   }
  },
  {
   "cell_type": "code",
   "execution_count": 2,
   "outputs": [],
   "source": [
    "# datasets\n",
    "breast_bin_dataset = read_csv('../datasets/breast-bin.csv', features=False, label=True)"
   ],
   "metadata": {
    "collapsed": false
   }
  },
  {
   "cell_type": "code",
   "execution_count": 3,
   "outputs": [
    {
     "data": {
      "text/plain": "array([[ 0.20885295, -0.69912815, -0.74242297, ..., -1.0000359 ,\n        -0.61132565, -0.34418721],\n       [-0.8578253 , -0.69912815, -0.74242297, ..., -0.58991542,\n        -0.61132565, -0.34418721],\n       [-0.8578253 , -0.69912815, -0.74242297, ..., -0.17979494,\n        -0.61132565, -0.34418721],\n       ...,\n       [ 0.20885295, -0.37139715, -0.40592217, ..., -1.0000359 ,\n        -0.61132565,  0.23892607],\n       [-0.8578253 , -0.04366616, -0.40592217, ..., -0.17979494,\n        -0.61132565, -0.34418721],\n       [ 0.91997179,  0.93952681,  0.94008103, ...,  1.46068699,\n        -0.61132565, -0.34418721]])"
     },
     "execution_count": 3,
     "metadata": {},
     "output_type": "execute_result"
    }
   ],
   "source": [
    "# standardization\n",
    "from sklearn.preprocessing import StandardScaler\n",
    "breast_bin_dataset.X = StandardScaler().fit_transform(breast_bin_dataset.X)\n",
    "breast_bin_dataset.X"
   ],
   "metadata": {
    "collapsed": false
   }
  },
  {
   "cell_type": "code",
   "execution_count": 4,
   "outputs": [
    {
     "data": {
      "text/plain": "{'seeds': [668, 155, 473, 195, 111],\n 'train': [0.962432915921288,\n  0.9660107334525939,\n  0.9677996422182469,\n  0.9660107334525939,\n  0.9660107334525939],\n 'test': [0.9928057553956835,\n  0.9712230215827338,\n  0.9640287769784173,\n  0.9712230215827338,\n  0.9712230215827338]}"
     },
     "execution_count": 4,
     "metadata": {},
     "output_type": "execute_result"
    }
   ],
   "source": [
    "# cross validation\n",
    "lg = LogisticRegression()\n",
    "scores = cross_validate(lg, breast_bin_dataset, cv=5)\n",
    "scores"
   ],
   "metadata": {
    "collapsed": false
   }
  },
  {
   "cell_type": "code",
   "execution_count": 5,
   "outputs": [
    {
     "data": {
      "text/plain": "[{'seeds': [897, 756, 808],\n  'train': [0.9785330948121646, 0.9660107334525939, 0.9660107334525939],\n  'test': [0.920863309352518, 0.9712230215827338, 0.9712230215827338],\n  'parameters': {'l2_penalty': 1, 'alpha': 0.001, 'max_iter': 1000}},\n {'seeds': [968, 155, 473],\n  'train': [0.9660107334525939, 0.9660107334525939, 0.9695885509838998],\n  'test': [0.9712230215827338, 0.9712230215827338, 0.9640287769784173],\n  'parameters': {'l2_penalty': 1, 'alpha': 0.001, 'max_iter': 2000}},\n {'seeds': [195, 111, 897],\n  'train': [0.9660107334525939, 0.9660107334525939, 0.9785330948121646],\n  'test': [0.9712230215827338, 0.9712230215827338, 0.920863309352518],\n  'parameters': {'l2_penalty': 1, 'alpha': 0.0001, 'max_iter': 1000}},\n {'seeds': [756, 808, 968],\n  'train': [0.9660107334525939, 0.9660107334525939, 0.9660107334525939],\n  'test': [0.9712230215827338, 0.9712230215827338, 0.9712230215827338],\n  'parameters': {'l2_penalty': 1, 'alpha': 0.0001, 'max_iter': 2000}},\n {'seeds': [155, 473, 195],\n  'train': [0.9660107334525939, 0.9677996422182469, 0.9660107334525939],\n  'test': [0.9712230215827338, 0.9640287769784173, 0.9712230215827338],\n  'parameters': {'l2_penalty': 10, 'alpha': 0.001, 'max_iter': 1000}},\n {'seeds': [111, 897, 756],\n  'train': [0.9660107334525939, 0.9785330948121646, 0.9660107334525939],\n  'test': [0.9712230215827338, 0.920863309352518, 0.9712230215827338],\n  'parameters': {'l2_penalty': 10, 'alpha': 0.001, 'max_iter': 2000}},\n {'seeds': [808, 968, 155],\n  'train': [0.9660107334525939, 0.9660107334525939, 0.9660107334525939],\n  'test': [0.9712230215827338, 0.9712230215827338, 0.9712230215827338],\n  'parameters': {'l2_penalty': 10, 'alpha': 0.0001, 'max_iter': 1000}},\n {'seeds': [473, 195, 111],\n  'train': [0.9677996422182469, 0.9660107334525939, 0.9660107334525939],\n  'test': [0.9640287769784173, 0.9712230215827338, 0.9712230215827338],\n  'parameters': {'l2_penalty': 10, 'alpha': 0.0001, 'max_iter': 2000}}]"
     },
     "execution_count": 5,
     "metadata": {},
     "output_type": "execute_result"
    }
   ],
   "source": [
    "# grid search cv\n",
    "\n",
    "lg = LogisticRegression()\n",
    "\n",
    "# parameter grid\n",
    "parameter_grid = {\n",
    "    'l2_penalty': (1, 10),\n",
    "    'alpha': (0.001, 0.0001),\n",
    "    'max_iter': (1000, 2000)\n",
    "}\n",
    "\n",
    "# cross validate the model\n",
    "scores = grid_search_cv(lg,\n",
    "                        breast_bin_dataset,\n",
    "                        parameter_grid=parameter_grid,\n",
    "                        cv=3)\n",
    "\n",
    "scores"
   ],
   "metadata": {
    "collapsed": false
   }
  }
 ],
 "metadata": {
  "kernelspec": {
   "display_name": "Python 3",
   "language": "python",
   "name": "python3"
  },
  "language_info": {
   "codemirror_mode": {
    "name": "ipython",
    "version": 2
   },
   "file_extension": ".py",
   "mimetype": "text/x-python",
   "name": "python",
   "nbconvert_exporter": "python",
   "pygments_lexer": "ipython2",
   "version": "2.7.6"
  }
 },
 "nbformat": 4,
 "nbformat_minor": 0
}
