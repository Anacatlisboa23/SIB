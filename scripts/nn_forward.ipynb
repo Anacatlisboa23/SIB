{
 "cells": [
  {
   "cell_type": "markdown",
   "source": [
    "SIB - P9\n",
    "A Jupyter Notebook with a Neural Network for the XNOR example provided in the class. 21/11/2022"
   ],
   "metadata": {
    "collapsed": false
   }
  },
  {
   "cell_type": "code",
   "execution_count": 43,
   "outputs": [
    {
     "data": {
      "text/plain": "   x1  x2  X1 XNOR X2\n0   0   0           1\n1   0   1           0\n2   1   0           0\n3   1   1           1",
      "text/html": "<div>\n<style scoped>\n    .dataframe tbody tr th:only-of-type {\n        vertical-align: middle;\n    }\n\n    .dataframe tbody tr th {\n        vertical-align: top;\n    }\n\n    .dataframe thead th {\n        text-align: right;\n    }\n</style>\n<table border=\"1\" class=\"dataframe\">\n  <thead>\n    <tr style=\"text-align: right;\">\n      <th></th>\n      <th>x1</th>\n      <th>x2</th>\n      <th>X1 XNOR X2</th>\n    </tr>\n  </thead>\n  <tbody>\n    <tr>\n      <th>0</th>\n      <td>0</td>\n      <td>0</td>\n      <td>1</td>\n    </tr>\n    <tr>\n      <th>1</th>\n      <td>0</td>\n      <td>1</td>\n      <td>0</td>\n    </tr>\n    <tr>\n      <th>2</th>\n      <td>1</td>\n      <td>0</td>\n      <td>0</td>\n    </tr>\n    <tr>\n      <th>3</th>\n      <td>1</td>\n      <td>1</td>\n      <td>1</td>\n    </tr>\n  </tbody>\n</table>\n</div>"
     },
     "execution_count": 43,
     "metadata": {},
     "output_type": "execute_result"
    }
   ],
   "source": [
    "import numpy as np\n",
    "from si.data.dataset import Dataset\n",
    "\n",
    "X = np.array([[0, 0],\n",
    "              [0, 1],\n",
    "              [1, 0],\n",
    "              [1, 1]])\n",
    "\n",
    "y = np.array([[1],\n",
    "              [0],\n",
    "              [0],\n",
    "              [1]])\n",
    "\n",
    "dataset = Dataset(X, y, features=['x1', 'x2'], label='X1 XNOR X2')\n",
    "dataset.to_dataframe()"
   ],
   "metadata": {
    "collapsed": false
   }
  },
  {
   "cell_type": "code",
   "execution_count": 44,
   "outputs": [],
   "source": [
    "# nn imports\n",
    "from si.neural_networks.layer import Dense, SigmoidActivation\n",
    "from si.neural_networks.nn import NN"
   ],
   "metadata": {
    "collapsed": false
   }
  },
  {
   "cell_type": "code",
   "execution_count": 45,
   "outputs": [],
   "source": [
    "# weights for Dense Layer 1\n",
    "\n",
    "w1 = np.array([[20, -20],\n",
    "               [20, -20]])\n",
    "b1 = np.array([[-30, 10]])\n",
    "\n",
    "l1 = Dense(input_size=2, output_size=2)\n",
    "l1.weights = w1\n",
    "l1.bias = b1"
   ],
   "metadata": {
    "collapsed": false
   }
  },
  {
   "cell_type": "code",
   "execution_count": 46,
   "outputs": [],
   "source": [
    "# weights for Dense Layer 2\n",
    "\n",
    "w2 = np.array([[20],\n",
    "               [20]])\n",
    "b2 = np.array([[-10]])\n",
    "\n",
    "l2 = Dense(input_size=2, output_size=1)\n",
    "l2.weights = w2\n",
    "l2.bias = b2"
   ],
   "metadata": {
    "collapsed": false
   }
  },
  {
   "cell_type": "code",
   "execution_count": 47,
   "outputs": [],
   "source": [
    "l1_sg = SigmoidActivation()\n",
    "l2_sg = SigmoidActivation()\n",
    "\n",
    "# layers\n",
    "layers = [\n",
    "    l1,\n",
    "    l1_sg,\n",
    "    l2,\n",
    "    l2_sg\n",
    "]\n",
    "\n",
    "# NN\n",
    "nn = NN(layers=layers)"
   ],
   "metadata": {
    "collapsed": false
   }
  },
  {
   "cell_type": "code",
   "execution_count": 48,
   "outputs": [
    {
     "data": {
      "text/plain": "array([[9.99954561e-01],\n       [4.54803785e-05],\n       [4.54803785e-05],\n       [9.99954561e-01]])"
     },
     "execution_count": 48,
     "metadata": {},
     "output_type": "execute_result"
    }
   ],
   "source": [
    "nn.predict(dataset=dataset)"
   ],
   "metadata": {
    "collapsed": false
   }
  }
 ],
 "metadata": {
  "kernelspec": {
   "display_name": "Python 3",
   "language": "python",
   "name": "python3"
  },
  "language_info": {
   "codemirror_mode": {
    "name": "ipython",
    "version": 2
   },
   "file_extension": ".py",
   "mimetype": "text/x-python",
   "name": "python",
   "nbconvert_exporter": "python",
   "pygments_lexer": "ipython2",
   "version": "2.7.6"
  }
 },
 "nbformat": 4,
 "nbformat_minor": 0
}
