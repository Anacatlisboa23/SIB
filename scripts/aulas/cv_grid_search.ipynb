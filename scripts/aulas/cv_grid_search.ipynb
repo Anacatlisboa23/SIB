{
 "cells": [
  {
   "cell_type": "markdown",
   "source": [
    "SIB - P7 A Jupyter Notebook with examples of how to use cross validation and grid search. 30/10/2023"
   ],
   "metadata": {
    "collapsed": false
   },
   "id": "faaebc62e3ec2cf0"
  },
  {
   "cell_type": "code",
   "execution_count": 1,
   "outputs": [],
   "source": [
    "# imports\n",
    "from si.io.csv_file import read_csv\n",
    "from si.models.logistic_regression import LogisticRegression\n",
    "from si.model_selection.cross_validation import k_fold_cross_validation\n",
    "from si.model_selection.grid_search import grid_search_cv"
   ],
   "metadata": {
    "collapsed": false,
    "ExecuteTime": {
     "end_time": "2023-12-16T15:24:43.282986500Z",
     "start_time": "2023-12-16T15:24:42.868388300Z"
    }
   },
   "id": "b3ccc199e6e2b7f7"
  },
  {
   "cell_type": "code",
   "execution_count": 2,
   "outputs": [],
   "source": [
    "# datasets\n",
    "breast_bin_dataset = read_csv(r'C:\\Users\\pc\\PycharmProjects\\si\\datasets\\breast_bin\\breast-bin.csv', features=False, label=True)"
   ],
   "metadata": {
    "collapsed": false,
    "ExecuteTime": {
     "end_time": "2023-12-16T15:24:44.432421Z",
     "start_time": "2023-12-16T15:24:44.416190100Z"
    }
   },
   "id": "684bc34efe6223e4"
  },
  {
   "cell_type": "code",
   "execution_count": 3,
   "outputs": [
    {
     "data": {
      "text/plain": "[0.9712230215827338,\n 0.9568345323741008,\n 0.9424460431654677,\n 0.9856115107913669,\n 0.9784172661870504]"
     },
     "execution_count": 3,
     "metadata": {},
     "output_type": "execute_result"
    }
   ],
   "source": [
    "# cross validation\n",
    "lg = LogisticRegression()\n",
    "scores = k_fold_cross_validation(lg, breast_bin_dataset, cv=5)\n",
    "scores"
   ],
   "metadata": {
    "collapsed": false,
    "ExecuteTime": {
     "end_time": "2023-12-16T15:24:48.744073600Z",
     "start_time": "2023-12-16T15:24:48.709373300Z"
    }
   },
   "id": "3b8b6150de3ed0f4"
  },
  {
   "cell_type": "code",
   "execution_count": 4,
   "outputs": [
    {
     "data": {
      "text/plain": "{'scores': [0.9669540229885056,\n  0.9669540229885057,\n  0.9669540229885057,\n  0.9669540229885057,\n  0.9669540229885056,\n  0.9669540229885057,\n  0.9655172413793104,\n  0.9669540229885057,\n  0.9669540229885057,\n  0.9655172413793104,\n  0.9669540229885056,\n  0.9669540229885057,\n  0.9669540229885057,\n  0.9669540229885057,\n  0.9655172413793104,\n  0.9669540229885056,\n  0.9669540229885056,\n  0.9669540229885057,\n  0.9669540229885057,\n  0.9669540229885057,\n  0.9669540229885057,\n  0.9669540229885057,\n  0.9655172413793104,\n  0.9669540229885057,\n  0.9683908045977012,\n  0.9669540229885057,\n  0.9669540229885057,\n  0.9669540229885057,\n  0.9669540229885057,\n  0.9669540229885057,\n  0.9669540229885057,\n  0.9655172413793104,\n  0.9669540229885057,\n  0.9669540229885057,\n  0.9669540229885056,\n  0.9669540229885057],\n 'hyperparameters': [{'l2_penalty': 1, 'alpha': 0.001, 'max_iter': 1000},\n  {'l2_penalty': 1, 'alpha': 0.001, 'max_iter': 2000},\n  {'l2_penalty': 1, 'alpha': 0.001, 'max_iter': 3000},\n  {'l2_penalty': 1, 'alpha': 0.001, 'max_iter': 4000},\n  {'l2_penalty': 1, 'alpha': 0.001, 'max_iter': 5000},\n  {'l2_penalty': 1, 'alpha': 0.001, 'max_iter': 6000},\n  {'l2_penalty': 1, 'alpha': 0.0001, 'max_iter': 1000},\n  {'l2_penalty': 1, 'alpha': 0.0001, 'max_iter': 2000},\n  {'l2_penalty': 1, 'alpha': 0.0001, 'max_iter': 3000},\n  {'l2_penalty': 1, 'alpha': 0.0001, 'max_iter': 4000},\n  {'l2_penalty': 1, 'alpha': 0.0001, 'max_iter': 5000},\n  {'l2_penalty': 1, 'alpha': 0.0001, 'max_iter': 6000},\n  {'l2_penalty': 1, 'alpha': 1e-05, 'max_iter': 1000},\n  {'l2_penalty': 1, 'alpha': 1e-05, 'max_iter': 2000},\n  {'l2_penalty': 1, 'alpha': 1e-05, 'max_iter': 3000},\n  {'l2_penalty': 1, 'alpha': 1e-05, 'max_iter': 4000},\n  {'l2_penalty': 1, 'alpha': 1e-05, 'max_iter': 5000},\n  {'l2_penalty': 1, 'alpha': 1e-05, 'max_iter': 6000},\n  {'l2_penalty': 10, 'alpha': 0.001, 'max_iter': 1000},\n  {'l2_penalty': 10, 'alpha': 0.001, 'max_iter': 2000},\n  {'l2_penalty': 10, 'alpha': 0.001, 'max_iter': 3000},\n  {'l2_penalty': 10, 'alpha': 0.001, 'max_iter': 4000},\n  {'l2_penalty': 10, 'alpha': 0.001, 'max_iter': 5000},\n  {'l2_penalty': 10, 'alpha': 0.001, 'max_iter': 6000},\n  {'l2_penalty': 10, 'alpha': 0.0001, 'max_iter': 1000},\n  {'l2_penalty': 10, 'alpha': 0.0001, 'max_iter': 2000},\n  {'l2_penalty': 10, 'alpha': 0.0001, 'max_iter': 3000},\n  {'l2_penalty': 10, 'alpha': 0.0001, 'max_iter': 4000},\n  {'l2_penalty': 10, 'alpha': 0.0001, 'max_iter': 5000},\n  {'l2_penalty': 10, 'alpha': 0.0001, 'max_iter': 6000},\n  {'l2_penalty': 10, 'alpha': 1e-05, 'max_iter': 1000},\n  {'l2_penalty': 10, 'alpha': 1e-05, 'max_iter': 2000},\n  {'l2_penalty': 10, 'alpha': 1e-05, 'max_iter': 3000},\n  {'l2_penalty': 10, 'alpha': 1e-05, 'max_iter': 4000},\n  {'l2_penalty': 10, 'alpha': 1e-05, 'max_iter': 5000},\n  {'l2_penalty': 10, 'alpha': 1e-05, 'max_iter': 6000}],\n 'best_hyperparameters': {'l2_penalty': 10, 'alpha': 0.0001, 'max_iter': 1000},\n 'best_score': 0.9683908045977012}"
     },
     "execution_count": 4,
     "metadata": {},
     "output_type": "execute_result"
    }
   ],
   "source": [
    "# grid search cv\n",
    "\n",
    "lg = LogisticRegression()\n",
    "\n",
    "# parameter grid\n",
    "parameter_grid = {\n",
    "    'l2_penalty': (1, 10),\n",
    "    'alpha': (0.001, 0.0001, 0.00001),\n",
    "    'max_iter': (1000, 2000, 3000, 4000, 5000, 6000)\n",
    "}\n",
    "\n",
    "# cross validate the model\n",
    "scores = grid_search_cv(lg,\n",
    "                        breast_bin_dataset,\n",
    "                        hyperparameter_grid=parameter_grid,\n",
    "                        cv=3)\n",
    "\n",
    "scores"
   ],
   "metadata": {
    "collapsed": false,
    "ExecuteTime": {
     "end_time": "2023-12-16T15:25:01.924482Z",
     "start_time": "2023-12-16T15:24:52.419354600Z"
    }
   },
   "id": "30aa8d84fc8bb765"
  },
  {
   "cell_type": "code",
   "execution_count": 5,
   "outputs": [
    {
     "data": {
      "text/plain": "[0.9669540229885056,\n 0.9669540229885057,\n 0.9669540229885057,\n 0.9669540229885057,\n 0.9669540229885056,\n 0.9669540229885057,\n 0.9655172413793104,\n 0.9669540229885057,\n 0.9669540229885057,\n 0.9655172413793104,\n 0.9669540229885056,\n 0.9669540229885057,\n 0.9669540229885057,\n 0.9669540229885057,\n 0.9655172413793104,\n 0.9669540229885056,\n 0.9669540229885056,\n 0.9669540229885057,\n 0.9669540229885057,\n 0.9669540229885057,\n 0.9669540229885057,\n 0.9669540229885057,\n 0.9655172413793104,\n 0.9669540229885057,\n 0.9683908045977012,\n 0.9669540229885057,\n 0.9669540229885057,\n 0.9669540229885057,\n 0.9669540229885057,\n 0.9669540229885057,\n 0.9669540229885057,\n 0.9655172413793104,\n 0.9669540229885057,\n 0.9669540229885057,\n 0.9669540229885056,\n 0.9669540229885057]"
     },
     "execution_count": 5,
     "metadata": {},
     "output_type": "execute_result"
    }
   ],
   "source": [
    "#scores\n",
    "scores['scores']"
   ],
   "metadata": {
    "collapsed": false,
    "ExecuteTime": {
     "end_time": "2023-12-16T15:25:03.772190600Z",
     "start_time": "2023-12-16T15:25:03.757792900Z"
    }
   },
   "id": "6b36d956c6d28535"
  },
  {
   "cell_type": "code",
   "execution_count": 6,
   "outputs": [
    {
     "data": {
      "text/plain": "{'l2_penalty': 10, 'alpha': 0.0001, 'max_iter': 1000}"
     },
     "execution_count": 6,
     "metadata": {},
     "output_type": "execute_result"
    }
   ],
   "source": [
    "# best hyperparameters\n",
    "scores['best_hyperparameters']"
   ],
   "metadata": {
    "collapsed": false,
    "ExecuteTime": {
     "end_time": "2023-12-16T15:25:07.915738200Z",
     "start_time": "2023-12-16T15:25:07.899742500Z"
    }
   },
   "id": "c5fcff1ed44f21d2"
  },
  {
   "cell_type": "code",
   "execution_count": 7,
   "outputs": [
    {
     "data": {
      "text/plain": "0.9683908045977012"
     },
     "execution_count": 7,
     "metadata": {},
     "output_type": "execute_result"
    }
   ],
   "source": [
    "# best score\n",
    "scores['best_score']"
   ],
   "metadata": {
    "collapsed": false,
    "ExecuteTime": {
     "end_time": "2023-12-16T15:25:10.271721400Z",
     "start_time": "2023-12-16T15:25:10.256063900Z"
    }
   },
   "id": "b337c0b3a65429a4"
  }
 ],
 "metadata": {
  "kernelspec": {
   "display_name": "Python 3",
   "language": "python",
   "name": "python3"
  },
  "language_info": {
   "codemirror_mode": {
    "name": "ipython",
    "version": 2
   },
   "file_extension": ".py",
   "mimetype": "text/x-python",
   "name": "python",
   "nbconvert_exporter": "python",
   "pygments_lexer": "ipython2",
   "version": "2.7.6"
  }
 },
 "nbformat": 4,
 "nbformat_minor": 5
}
