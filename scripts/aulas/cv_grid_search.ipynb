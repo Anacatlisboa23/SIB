{
 "cells": [
  {
   "cell_type": "markdown",
   "source": [
    "SIB - P7 A Jupyter Notebook with examples of how to use cross validation and grid search. 30/10/2023"
   ],
   "metadata": {
    "collapsed": false
   },
   "id": "faaebc62e3ec2cf0"
  },
  {
   "cell_type": "code",
   "execution_count": null,
   "outputs": [],
   "source": [
    "# imports\n",
    "from si.io.csv_file import read_csv\n",
    "from si.models.logistic_regression import LogisticRegression\n",
    "from si.model_selection.cross_validation import k_fold_cross_validation\n",
    "from si.model_selection.grid_search import grid_search_cv"
   ],
   "metadata": {
    "collapsed": false
   },
   "id": "b3ccc199e6e2b7f7"
  },
  {
   "cell_type": "code",
   "execution_count": null,
   "outputs": [],
   "source": [
    "# datasets\n",
    "breast_bin_dataset = read_csv('../datasets/breast_bin/breast-bin.csv', features=False, label=True)"
   ],
   "metadata": {
    "collapsed": false
   },
   "id": "684bc34efe6223e4"
  },
  {
   "cell_type": "code",
   "execution_count": null,
   "outputs": [],
   "source": [
    "# cross validation\n",
    "lg = LogisticRegression()\n",
    "scores = k_fold_cross_validation(lg, breast_bin_dataset, cv=5)\n",
    "scores"
   ],
   "metadata": {
    "collapsed": false
   },
   "id": "3b8b6150de3ed0f4"
  },
  {
   "cell_type": "code",
   "execution_count": null,
   "outputs": [],
   "source": [
    "# grid search cv\n",
    "\n",
    "lg = LogisticRegression()\n",
    "\n",
    "# parameter grid\n",
    "parameter_grid = {\n",
    "    'l2_penalty': (1, 10),\n",
    "    'alpha': (0.001, 0.0001, 0.00001),\n",
    "    'max_iter': (1000, 2000, 3000, 4000, 5000, 6000)\n",
    "}\n",
    "\n",
    "# cross validate the model\n",
    "scores = grid_search_cv(lg,\n",
    "                        breast_bin_dataset,\n",
    "                        hyperparameter_grid=parameter_grid,\n",
    "                        cv=3)\n",
    "\n",
    "scores"
   ],
   "metadata": {
    "collapsed": false
   },
   "id": "30aa8d84fc8bb765"
  },
  {
   "cell_type": "code",
   "execution_count": null,
   "outputs": [],
   "source": [
    "#scores\n",
    "scores['scores']"
   ],
   "metadata": {
    "collapsed": false
   },
   "id": "6b36d956c6d28535"
  },
  {
   "cell_type": "code",
   "execution_count": null,
   "outputs": [],
   "source": [
    "# best hyperparameters\n",
    "scores['best_hyperparameters']"
   ],
   "metadata": {
    "collapsed": false
   },
   "id": "c5fcff1ed44f21d2"
  },
  {
   "cell_type": "code",
   "execution_count": null,
   "outputs": [],
   "source": [
    "# best score\n",
    "scores['best_score']"
   ],
   "metadata": {
    "collapsed": false
   },
   "id": "b337c0b3a65429a4"
  }
 ],
 "metadata": {
  "kernelspec": {
   "display_name": "Python 3",
   "language": "python",
   "name": "python3"
  },
  "language_info": {
   "codemirror_mode": {
    "name": "ipython",
    "version": 2
   },
   "file_extension": ".py",
   "mimetype": "text/x-python",
   "name": "python",
   "nbconvert_exporter": "python",
   "pygments_lexer": "ipython2",
   "version": "2.7.6"
  }
 },
 "nbformat": 4,
 "nbformat_minor": 5
}
