{
 "cells": [
  {
   "cell_type": "markdown",
   "source": [
    "# SIB P1"
   ],
   "metadata": {
    "collapsed": false
   },
   "id": "3d2f219048f75da2"
  },
  {
   "cell_type": "markdown",
   "source": [
    "A Jupyter Notebook with examples oh how to use the Dataset object. 18/09/2023"
   ],
   "metadata": {
    "collapsed": false
   },
   "id": "3754ed19f7b5af72"
  },
  {
   "cell_type": "code",
   "execution_count": null,
   "outputs": [],
   "source": [
    "from si.data.dataset import Dataset\n",
    "import numpy as np\n",
    "\n",
    "# create a dataset\n",
    "X = np.random.rand(150, 30)\n",
    "y = np.random.randint(0, 2, 150)\n",
    "dataset = Dataset(X, y)\n",
    "dataset.shape()"
   ],
   "metadata": {
    "collapsed": false
   },
   "id": "51e2247e4b0d596c"
  },
  {
   "cell_type": "code",
   "execution_count": null,
   "outputs": [],
   "source": [
    "# get the X\n",
    "dataset.X"
   ],
   "metadata": {
    "collapsed": false
   },
   "id": "1b48e7d394b2c0a5"
  },
  {
   "cell_type": "code",
   "execution_count": null,
   "outputs": [],
   "source": [
    "#get the features names\n",
    "dataset.features"
   ],
   "metadata": {
    "collapsed": false
   },
   "id": "a4075a5ccf2c215a"
  },
  {
   "cell_type": "code",
   "execution_count": null,
   "outputs": [],
   "source": [
    "# has label?\n",
    "dataset.has_label()"
   ],
   "metadata": {
    "collapsed": false
   },
   "id": "6d078b5b1af5d36f"
  },
  {
   "cell_type": "code",
   "execution_count": null,
   "outputs": [],
   "source": [
    "# print the label\n",
    "dataset.y"
   ],
   "metadata": {
    "collapsed": false
   },
   "id": "c234977f92350a14"
  },
  {
   "cell_type": "code",
   "execution_count": null,
   "outputs": [],
   "source": [
    "# get classes\n",
    "dataset.get_classes()"
   ],
   "metadata": {
    "collapsed": false
   },
   "id": "4fddadb0b49e44fe"
  },
  {
   "cell_type": "code",
   "execution_count": null,
   "outputs": [],
   "source": [
    "# statistics summary\n",
    "dataset.summary()"
   ],
   "metadata": {
    "collapsed": false
   },
   "id": "6cc3d14de9a48104"
  },
  {
   "cell_type": "code",
   "execution_count": null,
   "outputs": [],
   "source": [
    "from si.io.data_file import read_data_file\n",
    "\n",
    "# read breast dataset from data file\n",
    "breast_dataset = read_data_file(r'C:\\Users\\pc\\PycharmProjects\\si\\datasets\\breast_bin\\breast-bin.data', sep=',', label=True)\n",
    "breast_dataset.summary()"
   ],
   "metadata": {
    "collapsed": false
   },
   "id": "b56af24e00da8b0a"
  },
  {
   "cell_type": "code",
   "execution_count": null,
   "outputs": [],
   "source": [
    "breast_dataset.y"
   ],
   "metadata": {
    "collapsed": false
   },
   "id": "9cc00d2bf4c22b4a"
  },
  {
   "cell_type": "code",
   "execution_count": null,
   "outputs": [],
   "source": [
    "print('Features', breast_dataset.features)\n",
    "print('Label', breast_dataset.label)"
   ],
   "metadata": {
    "collapsed": false
   },
   "id": "6d586f147e9f4183"
  },
  {
   "cell_type": "code",
   "execution_count": null,
   "outputs": [],
   "source": [
    "# write the same fila with a different name\n",
    "from si.io.data_file import write_data_file\n",
    "write_data_file('../datasets/breast_bin/breast-bin_tabular.tsv', breast_dataset, sep='\\t', label=True)"
   ],
   "metadata": {
    "collapsed": false
   },
   "id": "224416590af907a7"
  },
  {
   "cell_type": "code",
   "execution_count": null,
   "outputs": [],
   "source": [
    "from si.io.csv_file import read_csv\n",
    "\n",
    "# read iris dataset from data file\n",
    "iris_dataset = read_csv('../datasets/iris/iris.csv', sep=',', features=True, label=True)\n",
    "iris_dataset.summary()"
   ],
   "metadata": {
    "collapsed": false
   },
   "id": "f1ce0bd395669649"
  },
  {
   "cell_type": "code",
   "execution_count": null,
   "outputs": [],
   "source": [
    "iris_dataset.get_classes()"
   ],
   "metadata": {
    "collapsed": false
   },
   "id": "a16ef9a2c923bf59"
  }
 ],
 "metadata": {
  "kernelspec": {
   "display_name": "Python 3",
   "language": "python",
   "name": "python3"
  },
  "language_info": {
   "codemirror_mode": {
    "name": "ipython",
    "version": 2
   },
   "file_extension": ".py",
   "mimetype": "text/x-python",
   "name": "python",
   "nbconvert_exporter": "python",
   "pygments_lexer": "ipython2",
   "version": "2.7.6"
  }
 },
 "nbformat": 4,
 "nbformat_minor": 5
}
